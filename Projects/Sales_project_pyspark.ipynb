{
 "cells": [
  {
   "cell_type": "code",
   "execution_count": 0,
   "metadata": {
    "application/vnd.databricks.v1+cell": {
     "cellMetadata": {
      "byteLimit": 2048000,
      "rowLimit": 10000
     },
     "inputWidgets": {},
     "nuid": "3bef97be-0a63-487d-bde7-2892ed256cf5",
     "showTitle": false,
     "title": ""
    }
   },
   "outputs": [],
   "source": [
    "rdd_sales = sc.textFile(\"/FileStore/tables/5000_Sales_Records.csv\", 2)"
   ]
  },
  {
   "cell_type": "code",
   "execution_count": 0,
   "metadata": {
    "application/vnd.databricks.v1+cell": {
     "cellMetadata": {
      "byteLimit": 2048000,
      "rowLimit": 10000
     },
     "inputWidgets": {},
     "nuid": "81972c5e-6766-4dc5-86b8-8df5f7929ee6",
     "showTitle": false,
     "title": ""
    }
   },
   "outputs": [],
   "source": [
    "header=rdd_sales.first()"
   ]
  },
  {
   "cell_type": "code",
   "execution_count": 0,
   "metadata": {
    "application/vnd.databricks.v1+cell": {
     "cellMetadata": {
      "byteLimit": 2048000,
      "rowLimit": 10000
     },
     "inputWidgets": {},
     "nuid": "7985d923-1b95-4ebf-a0c9-fa0c208e7000",
     "showTitle": false,
     "title": ""
    }
   },
   "outputs": [
    {
     "output_type": "stream",
     "name": "stdout",
     "output_type": "stream",
     "text": [
      "Out[5]: ['Central America and the Caribbean,Antigua and Barbuda ,Baby Food,Online,M,12/20/2013,957081544,1/11/2014,552,255.28,159.42,140914.56,87999.84,52914.72',\n 'Central America and the Caribbean,Panama,Snacks,Offline,C,7/5/2010,301644504,7/26/2010,2167,152.58,97.44,330640.86,211152.48,119488.38',\n 'Europe,Czech Republic,Beverages,Offline,C,9/12/2011,478051030,9/29/2011,4778,47.45,31.79,226716.10,151892.62,74823.48',\n 'Asia,North Korea,Cereal,Offline,L,5/13/2010,892599952,6/15/2010,9016,205.70,117.11,1854591.20,1055863.76,798727.44',\n 'Asia,Sri Lanka,Snacks,Offline,C,7/20/2015,571902596,7/27/2015,7542,152.58,97.44,1150758.36,734892.48,415865.88',\n 'Middle East and North Africa,Morocco,Personal Care,Offline,L,11/8/2010,412882792,11/22/2010,48,81.73,56.67,3923.04,2720.16,1202.88',\n 'Australia and Oceania,Federated States of Micronesia,Clothes,Offline,H,3/28/2011,932776868,5/10/2011,8258,109.28,35.84,902434.24,295966.72,606467.52',\n 'Europe,Bosnia and Herzegovina,Clothes,Online,M,10/14/2013,919133651,11/4/2013,927,109.28,35.84,101302.56,33223.68,68078.88',\n 'Middle East and North Africa,Afghanistan,Clothes,Offline,M,8/27/2016,579814469,10/5/2016,8841,109.28,35.84,966144.48,316861.44,649283.04',\n 'Sub-Saharan Africa,Ethiopia,Baby Food,Online,M,4/13/2015,192993152,5/7/2015,9817,255.28,159.42,2506083.76,1565026.14,941057.62',\n 'Middle East and North Africa,Turkey,Office Supplies,Offline,C,9/25/2013,557156026,10/15/2013,3704,651.21,524.96,2412081.84,1944451.84,467630.00',\n 'Middle East and North Africa,Oman,Cosmetics,Online,M,5/12/2013,741101920,5/17/2013,7382,437.20,263.33,3227410.40,1943902.06,1283508.34',\n 'Asia,Malaysia,Cereal,Offline,L,7/31/2016,333942162,8/25/2016,9762,205.70,117.11,2008043.40,1143227.82,864815.58',\n 'Central America and the Caribbean,Saint Lucia,Cosmetics,Offline,H,7/6/2015,795100581,7/16/2015,6786,437.20,263.33,2966839.20,1786957.38,1179881.82',\n 'Central America and the Caribbean,Saint Vincent and the Grenadines,Baby Food,Online,L,11/28/2010,504313504,12/3/2010,6428,255.28,159.42,1640939.84,1024751.76,616188.08',\n 'Middle East and North Africa,Lebanon,Meat,Offline,H,12/17/2015,611629760,1/31/2016,3693,421.89,364.69,1558039.77,1346800.17,211239.60',\n 'Europe,Austria,Cereal,Offline,C,8/13/2014,987410676,9/6/2014,5616,205.70,117.11,1155211.20,657689.76,497521.44',\n 'Europe,Bulgaria,Office Supplies,Online,L,10/31/2010,672330081,11/29/2010,6266,651.21,524.96,4080481.86,3289399.36,791082.50',\n 'North America,Mexico,Beverages,Online,C,3/13/2017,127374303,3/20/2017,1742,47.45,31.79,82657.90,55378.18,27279.72',\n 'Central America and the Caribbean,Trinidad and Tobago,Baby Food,Offline,C,4/16/2013,783842170,6/1/2013,5172,255.28,159.42,1320308.16,824520.24,495787.92',\n 'Middle East and North Africa,Libya,Beverages,Offline,L,1/18/2010,993345010,3/3/2010,1718,47.45,31.79,81519.10,54615.22,26903.88',\n 'Middle East and North Africa,Algeria,Baby Food,Offline,M,9/5/2015,977806651,10/14/2015,3572,255.28,159.42,911860.16,569448.24,342411.92',\n 'Europe,Estonia,Fruits,Online,L,9/28/2016,579463422,11/1/2016,4958,9.33,6.92,46258.14,34309.36,11948.78',\n 'Australia and Oceania,Tuvalu,Beverages,Offline,L,3/22/2012,610864150,4/7/2012,7132,47.45,31.79,338413.40,226726.28,111687.12',\n 'Middle East and North Africa,Saudi Arabia,Snacks,Offline,L,4/25/2017,604870164,6/5/2017,3378,152.58,97.44,515415.24,329152.32,186262.92',\n 'Central America and the Caribbean,Cuba,Cereal,Online,H,3/13/2014,164655292,5/1/2014,4015,205.70,117.11,825885.50,470196.65,355688.85',\n 'Europe,Montenegro,Fruits,Offline,L,5/29/2016,313705861,7/10/2016,1390,9.33,6.92,12968.70,9618.80,3349.90',\n 'Central America and the Caribbean,Guatemala,Office Supplies,Online,M,1/17/2012,345820701,2/1/2012,4885,651.21,524.96,3181160.85,2564429.60,616731.25',\n 'Sub-Saharan Africa,Guinea,Baby Food,Online,M,12/27/2012,975111138,1/21/2013,5910,255.28,159.42,1508704.80,942172.20,566532.60',\n 'Australia and Oceania,Vanuatu,Snacks,Online,C,4/1/2013,286001002,4/15/2013,2907,152.58,97.44,443550.06,283258.08,160291.98',\n 'Middle East and North Africa,United Arab Emirates,Cosmetics,Offline,H,6/26/2015,483226621,8/6/2015,6350,437.20,263.33,2776220.00,1672145.50,1104074.50',\n 'Australia and Oceania,Australia,Clothes,Offline,M,1/17/2012,241836822,1/17/2012,3744,109.28,35.84,409144.32,134184.96,274959.36',\n 'Middle East and North Africa,Oman,Clothes,Online,H,7/3/2011,557192933,7/5/2011,4626,109.28,35.84,505529.28,165795.84,339733.44',\n 'Sub-Saharan Africa,Malawi,Meat,Online,L,2/17/2012,694968783,4/2/2012,5562,421.89,364.69,2346552.18,2028405.78,318146.40',\n 'Middle East and North Africa,Lebanon,Fruits,Online,H,4/5/2013,441150701,5/12/2013,5150,9.33,6.92,48049.50,35638.00,12411.50',\n 'Europe,Czech Republic,Cereal,Online,M,7/8/2011,552037513,8/5/2011,9022,205.70,117.11,1855825.40,1056566.42,799258.98',\n 'Australia and Oceania,Vanuatu,Cosmetics,Offline,C,2/24/2012,504240548,3/27/2012,4838,437.20,263.33,2115173.60,1273990.54,841183.06',\n 'Europe,Luxembourg,Vegetables,Offline,L,2/13/2010,744683635,4/1/2010,7291,154.06,90.93,1123251.46,662970.63,460280.83',\n 'Sub-Saharan Africa,Benin,Personal Care,Online,L,8/7/2016,440603101,9/15/2016,3104,81.73,56.67,253689.92,175903.68,77786.24',\n 'Middle East and North Africa,Somalia,Clothes,Offline,L,4/26/2017,629547774,5/3/2017,6031,109.28,35.84,659067.68,216151.04,442916.64',\n 'Europe,Switzerland,Meat,Online,L,3/21/2014,169378983,4/10/2014,1860,421.89,364.69,784715.40,678323.40,106392.00',\n 'Middle East and North Africa,Saudi Arabia,Personal Care,Offline,L,2/2/2014,688270556,3/4/2014,3407,81.73,56.67,278454.11,193074.69,85379.42',\n 'Asia,Laos,Meat,Online,L,3/21/2017,734708821,3/24/2017,5522,421.89,364.69,2329676.58,2013818.18,315858.40',\n 'Asia,Kyrgyzstan,Snacks,Online,C,8/6/2013,727492606,9/22/2013,84,152.58,97.44,12816.72,8184.96,4631.76',\n 'Middle East and North Africa,Algeria,Baby Food,Offline,M,12/30/2016,705733239,1/25/2017,1003,255.28,159.42,256045.84,159898.26,96147.58',\n 'Sub-Saharan Africa,Angola,Office Supplies,Offline,C,10/3/2015,778854548,10/3/2015,9224,651.21,524.96,6006761.04,4842231.04,1164530.00',\n 'Sub-Saharan Africa,Mauritania,Cosmetics,Offline,M,5/30/2014,676592862,7/9/2014,7718,437.20,263.33,3374309.60,2032380.94,1341928.66',\n 'Middle East and North Africa,Lebanon,Household,Offline,M,10/15/2014,198997008,10/16/2014,6492,668.27,502.54,4338408.84,3262489.68,1075919.16',\n 'Europe,Finland,Beverages,Online,H,3/16/2012,566428315,3/23/2012,7581,47.45,31.79,359718.45,240999.99,118718.46',\n 'Asia,Taiwan,Baby Food,Online,M,5/27/2014,369560611,6/13/2014,52,255.28,159.42,13274.56,8289.84,4984.72',\n 'Europe,Belgium,Snacks,Online,M,1/12/2015,519380223,1/17/2015,5005,152.58,97.44,763662.90,487687.20,275975.70',\n 'Asia,Laos,Office Supplies,Online,H,8/10/2012,197185981,9/11/2012,568,651.21,524.96,369887.28,298177.28,71710.00',\n 'Europe,San Marino,Office Supplies,Online,H,4/13/2014,904589211,5/4/2014,6905,651.21,524.96,4496605.05,3624848.80,871756.25',\n 'Australia and Oceania,Tuvalu,Household,Offline,H,11/23/2016,613513743,12/31/2016,1205,668.27,502.54,805265.35,605560.70,199704.65',\n 'Australia and Oceania,Kiribati,Clothes,Offline,M,10/22/2010,516195905,10/29/2010,2694,109.28,35.84,294400.32,96552.96,197847.36',\n 'Asia,Kyrgyzstan,Vegetables,Offline,H,12/3/2013,975184524,1/17/2014,7626,154.06,90.93,1174861.56,693432.18,481429.38',\n 'Australia and Oceania,Samoa ,Clothes,Online,M,12/8/2014,173340928,1/3/2015,4287,109.28,35.84,468483.36,153646.08,314837.28',\n 'Sub-Saharan Africa,Central African Republic,Personal Care,Offline,H,12/16/2014,863838946,1/5/2015,7995,81.73,56.67,653431.35,453076.65,200354.70',\n 'Asia,Uzbekistan,Cereal,Offline,L,3/2/2016,920164906,3/6/2016,6099,205.70,117.11,1254564.30,714253.89,540310.41',\n 'Central America and the Caribbean,Dominica,Meat,Online,M,6/12/2010,986117637,7/30/2010,2977,421.89,364.69,1255966.53,1085682.13,170284.40',\n 'Middle East and North Africa,Qatar,Cereal,Online,L,6/18/2013,425808465,7/18/2013,5042,205.70,117.11,1037139.40,590468.62,446670.78',\n 'Central America and the Caribbean,Saint Lucia,Beverages,Online,L,6/12/2015,473661220,7/3/2015,5736,47.45,31.79,272173.20,182347.44,89825.76',\n 'Europe,Bosnia and Herzegovina,Baby Food,Online,C,4/4/2015,184412229,4/7/2015,531,255.28,159.42,135553.68,84652.02,50901.66',\n 'Asia,South Korea,Vegetables,Offline,H,8/12/2016,483110320,9/30/2016,1934,154.06,90.93,297952.04,175858.62,122093.42',\n 'Central America and the Caribbean,Trinidad and Tobago,Household,Online,H,9/22/2016,115116822,11/1/2016,4481,668.27,502.54,2994517.87,2251881.74,742636.13',\n 'Middle East and North Africa,Somalia,Baby Food,Online,M,1/29/2010,596105563,3/20/2010,9738,255.28,159.42,2485916.64,1552431.96,933484.68',\n 'Sub-Saharan Africa,Nigeria,Snacks,Online,C,12/10/2014,362062871,12/23/2014,1304,152.58,97.44,198964.32,127061.76,71902.56',\n 'Sub-Saharan Africa,South Africa,Beverages,Online,H,7/28/2016,619287574,8/2/2016,9810,47.45,31.79,465484.50,311859.90,153624.60',\n 'Central America and the Caribbean,Saint Vincent and the Grenadines,Clothes,Offline,H,6/10/2016,394391000,6/23/2016,7916,109.28,35.84,865060.48,283709.44,581351.04',\n 'Sub-Saharan Africa,Sudan,Beverages,Online,M,4/16/2013,584296977,4/28/2013,5315,47.45,31.79,252196.75,168963.85,83232.90',\n 'Middle East and North Africa,Algeria,Clothes,Offline,M,7/5/2014,806241834,8/15/2014,3730,109.28,35.84,407614.40,133683.20,273931.20',\n 'Europe,Netherlands,Meat,Offline,M,3/8/2017,747774398,4/3/2017,1916,421.89,364.69,808341.24,698746.04,109595.20',\n 'Central America and the Caribbean,Panama,Meat,Online,H,11/24/2011,616755998,12/3/2011,660,421.89,364.69,278447.40,240695.40,37752.00',\n 'Australia and Oceania,Solomon Islands,Baby Food,Offline,C,10/20/2016,691360461,11/7/2016,7779,255.28,159.42,1985823.12,1240128.18,745694.94',\n 'Central America and the Caribbean,Saint Vincent and the Grenadines,Beverages,Online,C,4/1/2013,870074117,5/16/2013,3121,47.45,31.79,148091.45,99216.59,48874.86',\n 'Middle East and North Africa,Iran,Office Supplies,Online,H,3/1/2010,221695792,3/20/2010,3566,651.21,524.96,2322214.86,1872007.36,450207.50',\n 'Australia and Oceania,Vanuatu,Fruits,Online,M,7/13/2017,135336816,8/17/2017,8026,9.33,6.92,74882.58,55539.92,19342.66',\n 'Australia and Oceania,Federated States of Micronesia,Office Supplies,Online,L,4/29/2012,270421016,5/23/2012,2443,651.21,524.96,1590906.03,1282477.28,308428.75',\n 'Sub-Saharan Africa,Equatorial Guinea,Household,Online,H,6/16/2010,806684720,7/18/2010,4790,668.27,502.54,3201013.30,2407166.60,793846.70',\n 'Europe,Russia,Household,Online,M,7/10/2017,194176757,8/20/2017,72,668.27,502.54,48115.44,36182.88,11932.56',\n 'Middle East and North Africa,Azerbaijan,Baby Food,Offline,H,6/28/2017,103258454,8/15/2017,5326,255.28,159.42,1359621.28,849070.92,510550.36',\n 'Middle East and North Africa,Iraq,Office Supplies,Online,H,4/21/2014,474603641,5/30/2014,4619,651.21,524.96,3007938.99,2424790.24,583148.75',\n 'Sub-Saharan Africa,Mauritius ,Cereal,Online,H,12/26/2012,869198644,1/5/2013,4049,205.70,117.11,832879.30,474178.39,358700.91',\n 'Sub-Saharan Africa,Eritrea,Household,Online,H,11/1/2015,918342292,12/21/2015,6747,668.27,502.54,4508817.69,3390637.38,1118180.31',\n 'Europe,Ukraine,Cosmetics,Online,H,1/22/2011,773645913,1/28/2011,7873,437.20,263.33,3442075.60,2073197.09,1368878.51',\n 'Asia,Myanmar,Cosmetics,Online,C,6/13/2014,657033336,7/2/2014,9620,437.20,263.33,4205864.00,2533234.60,1672629.40',\n 'Europe,Bosnia and Herzegovina,Meat,Online,H,7/24/2012,410740888,9/1/2012,6211,421.89,364.69,2620358.79,2265089.59,355269.20',\n 'Europe,Latvia,Meat,Offline,M,12/15/2011,847317397,12/18/2011,8902,421.89,364.69,3755664.78,3246470.38,509194.40',\n 'Europe,Serbia,Beverages,Online,L,9/3/2012,599624192,9/21/2012,978,47.45,31.79,46406.10,31090.62,15315.48',\n 'Asia,Mongolia,Beverages,Offline,H,1/19/2012,170835101,2/12/2012,2758,47.45,31.79,130867.10,87676.82,43190.28',\n 'Central America and the Caribbean,Grenada,Cereal,Online,H,1/17/2016,584436452,2/9/2016,6588,205.70,117.11,1355151.60,771520.68,583630.92',\n 'Sub-Saharan Africa,Namibia,Office Supplies,Online,H,10/2/2012,234227073,10/12/2012,1851,651.21,524.96,1205389.71,971700.96,233688.75',\n 'Europe,Portugal,Office Supplies,Online,M,1/21/2014,734318292,3/4/2014,9956,651.21,524.96,6483446.76,5226501.76,1256945.00',\n 'Central America and the Caribbean,Barbados,Snacks,Online,H,12/21/2013,169133937,12/31/2013,9345,152.58,97.44,1425860.10,910576.80,515283.30',\n 'Asia,Sri Lanka,Cereal,Online,C,2/24/2015,743410336,3/20/2015,494,205.70,117.11,101615.80,57852.34,43763.46',\n 'Europe,Poland,Household,Offline,L,7/7/2017,232196319,8/4/2017,905,668.27,502.54,604784.35,454798.70,149985.65',\n 'Sub-Saharan Africa,Senegal,Beverages,Offline,L,6/30/2014,530853211,8/2/2014,117,47.45,31.79,5551.65,3719.43,1832.22',\n 'Australia and Oceania,Kiribati,Fruits,Online,L,12/7/2011,905054843,1/12/2012,4695,9.33,6.92,43804.35,32489.40,11314.95',\n 'Middle East and North Africa,Somalia,Household,Offline,C,9/27/2016,240787541,11/13/2016,3239,668.27,502.54,2164526.53,1627727.06,536799.47',\n 'Sub-Saharan Africa,Burundi,Meat,Online,L,5/22/2010,194350135,6/5/2010,1379,421.89,364.69,581786.31,502907.51,78878.80',\n 'Asia,Malaysia,Household,Online,L,4/12/2013,242353951,4/13/2013,6775,668.27,502.54,4527529.25,3404708.50,1122820.75',\n 'Central America and the Caribbean,Haiti,Vegetables,Offline,C,10/17/2012,831722819,10/26/2012,4120,154.06,90.93,634727.20,374631.60,260095.60',\n 'Europe,Liechtenstein,Cosmetics,Online,L,7/15/2012,229693067,7/15/2012,138,437.20,263.33,60333.60,36339.54,23994.06',\n 'Sub-Saharan Africa,Zambia,Cereal,Offline,H,5/19/2013,373813521,6/15/2013,8583,205.70,117.11,1765523.10,1005155.13,760367.97',\n 'Europe,United Kingdom,Beverages,Online,C,4/8/2017,121945512,4/12/2017,5242,47.45,31.79,248732.90,166643.18,82089.72',\n 'Australia and Oceania,Vanuatu,Fruits,Offline,L,11/6/2015,202262866,12/14/2015,2932,9.33,6.92,27355.56,20289.44,7066.12',\n 'Australia and Oceania,Tuvalu,Personal Care,Offline,M,12/21/2016,963251912,2/1/2017,6501,81.73,56.67,531326.73,368411.67,162915.06',\n 'Central America and the Caribbean,Antigua and Barbuda ,Household,Online,M,8/21/2010,123711478,9/13/2010,7830,668.27,502.54,5232554.10,3934888.20,1297665.90',\n 'Central America and the Caribbean,Haiti,Clothes,Offline,L,8/12/2010,422752892,8/12/2010,830,109.28,35.84,90702.40,29747.20,60955.20',\n 'Europe,Slovenia,Fruits,Online,H,10/22/2012,169799983,11/20/2012,6443,9.33,6.92,60113.19,44585.56,15527.63',\n 'Europe,Malta,Vegetables,Online,M,3/11/2014,894589078,4/10/2014,7643,154.06,90.93,1177480.58,694977.99,482502.59',\n 'Asia,Bhutan,Office Supplies,Offline,M,8/3/2016,597169005,8/14/2016,4434,651.21,524.96,2887465.14,2327672.64,559792.50',\n 'Sub-Saharan Africa,Eritrea,Office Supplies,Offline,H,4/26/2015,497901093,6/11/2015,8853,651.21,524.96,5765162.13,4647470.88,1117691.25',\n 'Europe,Ukraine,Personal Care,Online,M,7/16/2010,987459170,8/27/2010,9967,81.73,56.67,814602.91,564829.89,249773.02',\n 'Asia,Singapore,Personal Care,Offline,M,1/22/2011,276829564,2/13/2011,8875,81.73,56.67,725353.75,502946.25,222407.50',\n 'Sub-Saharan Africa,Cameroon,Household,Offline,H,5/22/2015,247311103,7/11/2015,3706,668.27,502.54,2476608.62,1862413.24,614195.38',\n 'Europe,Cyprus,Fruits,Offline,M,7/12/2015,600515115,8/30/2015,4622,9.33,6.92,43123.26,31984.24,11139.02',\n 'Europe,Poland,Office Supplies,Offline,M,11/27/2015,208365428,12/29/2015,8815,651.21,524.96,5740416.15,4627522.40,1112893.75',\n 'Europe,Monaco,Personal Care,Online,L,6/8/2014,263098371,7/4/2014,5509,81.73,56.67,450250.57,312195.03,138055.54',\n 'Australia and Oceania,Vanuatu,Office Supplies,Online,L,11/21/2013,227262771,1/6/2014,959,651.21,524.96,624510.39,503436.64,121073.75',\n 'Sub-Saharan Africa,Gabon,Office Supplies,Offline,H,7/14/2010,983719956,8/1/2010,3450,651.21,524.96,2246674.50,1811112.00,435562.50',\n 'Sub-Saharan Africa,Djibouti,Baby Food,Offline,H,1/17/2013,785643756,1/26/2013,8301,255.28,159.42,2119079.28,1323345.42,795733.86',\n 'Sub-Saharan Africa,Namibia,Office Supplies,Online,C,1/15/2016,206520497,3/5/2016,2859,651.21,524.96,1861809.39,1500860.64,360948.75',\n 'Europe,Estonia,Cosmetics,Online,C,5/23/2011,790149009,5/29/2011,1505,437.20,263.33,657986.00,396311.65,261674.35',\n 'Europe,Norway,Cereal,Online,M,10/8/2014,100640618,10/18/2014,650,205.70,117.11,133705.00,76121.50,57583.50',\n 'Sub-Saharan Africa,Ethiopia,Personal Care,Online,L,5/27/2016,272419154,6/27/2016,3736,81.73,56.67,305343.28,211719.12,93624.16',\n 'Sub-Saharan Africa,Burundi,Meat,Offline,M,2/27/2015,360220944,2/27/2015,6237,421.89,364.69,2631327.93,2274571.53,356756.40',\n 'Asia,Thailand,Beverages,Offline,C,10/1/2014,389094817,11/11/2014,658,47.45,31.79,31222.10,20917.82,10304.28',\n 'Sub-Saharan Africa,Mauritius ,Meat,Offline,L,5/19/2012,904402101,6/23/2012,1534,421.89,364.69,647179.26,559434.46,87744.80',\n 'Sub-Saharan Africa,Uganda,Vegetables,Online,H,2/13/2010,721816623,2/17/2010,434,154.06,90.93,66862.04,39463.62,27398.42',\n 'Europe,Luxembourg,Snacks,Online,H,2/1/2011,977324712,3/10/2011,955,152.58,97.44,145713.90,93055.20,52658.70',\n 'Sub-Saharan Africa,The Gambia,Beverages,Online,C,9/7/2015,177225196,9/12/2015,3729,47.45,31.79,176941.05,118544.91,58396.14',\n 'Middle East and North Africa,United Arab Emirates,Beverages,Online,M,3/27/2010,948129403,5/14/2010,1415,47.45,31.79,67141.75,44982.85,22158.90',\n 'Central America and the Caribbean,Haiti,Meat,Offline,M,3/15/2016,586961162,4/22/2016,3706,421.89,364.69,1563524.34,1351541.14,211983.20',\n 'Europe,Luxembourg,Snacks,Online,H,9/7/2010,510956799,9/23/2010,2326,152.58,97.44,354901.08,226645.44,128255.64',\n 'Central America and the Caribbean,Saint Lucia,Meat,Online,L,6/26/2013,407665145,7/5/2013,6030,421.89,364.69,2543996.70,2199080.70,344916.00',\n 'Middle East and North Africa,Iraq,Meat,Online,C,3/9/2015,484947526,3/16/2015,5604,421.89,364.69,2364271.56,2043722.76,320548.80',\n 'Europe,Armenia,Fruits,Online,M,3/23/2011,120977771,5/2/2011,8866,9.33,6.92,82719.78,61352.72,21367.06',\n 'Asia,Singapore,Personal Care,Offline,M,3/29/2013,114242208,5/15/2013,5663,81.73,56.67,462836.99,320922.21,141914.78',\n 'Middle East and North Africa,Jordan,Clothes,Online,M,1/5/2015,433539664,1/15/2015,2876,109.28,35.84,314289.28,103075.84,211213.44',\n 'Australia and Oceania,Tonga,Meat,Online,M,5/21/2011,667981469,6/12/2011,9416,421.89,364.69,3972516.24,3433921.04,538595.20',\n 'Europe,Bulgaria,Snacks,Offline,L,3/11/2017,476991450,3/27/2017,1225,152.58,97.44,186910.50,119364.00,67546.50',\n 'Sub-Saharan Africa,Sudan,Office Supplies,Online,C,6/23/2010,940305936,7/29/2010,6277,651.21,524.96,4087645.17,3295173.92,792471.25',\n 'Sub-Saharan Africa,Mali,Baby Food,Online,H,12/28/2011,507973754,1/12/2012,9577,255.28,159.42,2444816.56,1526765.34,918051.22',\n 'Asia,Myanmar,Cosmetics,Online,L,4/6/2013,850356233,5/26/2013,8161,437.20,263.33,3567989.20,2149036.13,1418953.07',\n 'Asia,Sri Lanka,Meat,Offline,L,9/5/2010,108127200,10/1/2010,6096,421.89,364.69,2571841.44,2223150.24,348691.20',\n 'Middle East and North Africa,Azerbaijan,Office Supplies,Online,C,10/27/2016,542272984,12/8/2016,9481,651.21,524.96,6174122.01,4977145.76,1196976.25',\n 'Sub-Saharan Africa,Tanzania,Office Supplies,Offline,C,4/11/2011,884092414,5/13/2011,1447,651.21,524.96,942300.87,759617.12,182683.75',\n 'Sub-Saharan Africa,Swaziland,Household,Offline,C,7/17/2012,385196816,9/3/2012,7153,668.27,502.54,4780135.31,3594668.62,1185466.69',\n 'Asia,Myanmar,Meat,Online,L,9/9/2013,167510020,10/6/2013,8792,421.89,364.69,3709256.88,3206354.48,502902.40',\n 'Europe,Denmark,Beverages,Online,H,6/5/2016,973268353,6/26/2016,589,47.45,31.79,27948.05,18724.31,9223.74',\n 'Sub-Saharan Africa,Seychelles ,Fruits,Offline,M,2/28/2012,915020644,3/18/2012,3797,9.33,6.92,35426.01,26275.24,9150.77',\n 'Sub-Saharan Africa,Madagascar,Cosmetics,Offline,C,1/31/2016,425628221,2/24/2016,1704,437.20,263.33,744988.80,448714.32,296274.48',\n 'Central America and the Caribbean,Saint Lucia,Beverages,Online,L,5/18/2010,908264911,6/14/2010,4626,47.45,31.79,219503.70,147060.54,72443.16',\n 'Sub-Saharan Africa,Mauritius ,Cereal,Online,C,2/25/2016,686417043,3/29/2016,4912,205.70,117.11,1010398.40,575244.32,435154.08',\n 'Asia,Taiwan,Household,Online,H,12/7/2013,853883445,1/10/2014,1941,668.27,502.54,1297112.07,975430.14,321681.93',\n 'Middle East and North Africa,Morocco,Cereal,Online,C,8/8/2015,324775445,9/14/2015,7126,205.70,117.11,1465818.20,834525.86,631292.34',\n 'Middle East and North Africa,Jordan,Cereal,Online,C,3/3/2015,783516871,4/6/2015,8909,205.70,117.11,1832581.30,1043332.99,789248.31',\n 'Asia,China,Cosmetics,Offline,H,4/15/2015,834844052,5/20/2015,7762,437.20,263.33,3393546.40,2043967.46,1349578.94',\n 'Asia,South Korea,Snacks,Offline,H,11/20/2015,953805816,12/25/2015,1191,152.58,97.44,181722.78,116051.04,65671.74',\n 'North America,United States of America,Office Supplies,Online,L,5/22/2010,335763490,7/4/2010,8733,651.21,524.96,5687016.93,4584475.68,1102541.25',\n 'Asia,Uzbekistan,Cosmetics,Online,H,3/18/2012,946390902,3/23/2012,6954,437.20,263.33,3040288.80,1831196.82,1209091.98',\n 'Europe,Finland,Vegetables,Offline,L,2/14/2013,771674382,3/21/2013,4453,154.06,90.93,686029.18,404911.29,281117.89',\n 'Asia,Philippines,Cereal,Online,C,4/23/2017,567912757,5/22/2017,6860,205.70,117.11,1411102.00,803374.60,607727.40',\n 'Middle East and North Africa,Libya,Office Supplies,Offline,L,11/18/2014,711717355,11/18/2014,1836,651.21,524.96,1195621.56,963826.56,231795.00',\n 'Sub-Saharan Africa,South Sudan,Office Supplies,Online,L,12/11/2015,750012004,1/30/2016,4074,651.21,524.96,2653029.54,2138687.04,514342.50',\n 'Middle East and North Africa,Kuwait,Snacks,Online,C,7/9/2016,750033032,8/18/2016,297,152.58,97.44,45316.26,28939.68,16376.58',\n 'Central America and the Caribbean,Saint Lucia,Household,Offline,H,6/28/2017,849329268,7/22/2017,4259,668.27,502.54,2846161.93,2140317.86,705844.07',\n 'Central America and the Caribbean,Grenada,Meat,Online,M,3/22/2013,805762040,4/8/2013,1748,421.89,364.69,737463.72,637478.12,99985.60',\n 'Sub-Saharan Africa,Namibia,Cereal,Online,H,7/4/2010,447505176,7/27/2010,5581,205.70,117.11,1148011.70,653590.91,494420.79',\n 'Australia and Oceania,Solomon Islands,Beverages,Offline,L,3/14/2017,123045003,3/22/2017,606,47.45,31.79,28754.70,19264.74,9489.96',\n 'Asia,Philippines,Household,Offline,H,9/21/2015,251180350,10/20/2015,8702,668.27,502.54,5815285.54,4373103.08,1442182.46',\n 'Asia,Turkmenistan,Household,Online,M,4/10/2012,871022546,4/11/2012,3782,668.27,502.54,2527397.14,1900606.28,626790.86',\n 'Europe,Kosovo,Fruits,Online,L,5/2/2010,291995418,6/6/2010,6788,9.33,6.92,63332.04,46972.96,16359.08',\n 'Asia,Singapore,Clothes,Online,C,6/13/2014,943835294,8/1/2014,692,109.28,35.84,75621.76,24801.28,50820.48',\n 'Sub-Saharan Africa,South Africa,Office Supplies,Offline,L,4/18/2011,826591002,4/18/2011,5501,651.21,524.96,3582306.21,2887804.96,694501.25',\n 'Middle East and North Africa,Lebanon,Cosmetics,Online,M,5/1/2011,260623872,5/12/2011,3250,437.20,263.33,1420900.00,855822.50,565077.50',\n 'Australia and Oceania,Samoa ,Vegetables,Online,L,9/21/2014,536607730,11/3/2014,3007,154.06,90.93,463258.42,273426.51,189831.91',\n 'Australia and Oceania,Samoa ,Personal Care,Offline,L,2/17/2015,765528905,3/6/2015,5870,81.73,56.67,479755.10,332652.90,147102.20',\n 'Europe,Hungary,Baby Food,Online,M,1/25/2011,128686225,3/13/2011,9968,255.28,159.42,2544631.04,1589098.56,955532.48',\n 'Middle East and North Africa,Pakistan,Vegetables,Offline,L,4/1/2017,127691018,4/5/2017,5465,154.06,90.93,841937.90,496932.45,345005.45',\n 'Australia and Oceania,Tonga,Vegetables,Offline,C,5/21/2015,534467113,5/25/2015,9550,154.06,90.93,1471273.00,868381.50,602891.50',\n 'Australia and Oceania,Vanuatu,Personal Care,Online,H,12/18/2010,741250836,1/10/2011,1450,81.73,56.67,118508.50,82171.50,36337.00',\n 'Australia and Oceania,Vanuatu,Snacks,Online,M,5/2/2014,210591018,5/27/2014,7417,152.58,97.44,1131685.86,722712.48,408973.38',\n 'Central America and the Caribbean,Grenada,Vegetables,Online,C,3/6/2014,725348985,4/13/2014,5738,154.06,90.93,883996.28,521756.34,362239.94',\n 'Sub-Saharan Africa,Mozambique,Household,Offline,H,8/11/2011,538698565,9/7/2011,1731,668.27,502.54,1156775.37,869896.74,286878.63',\n 'Central America and the Caribbean,Cuba,Cereal,Offline,H,5/20/2016,224126088,6/12/2016,2745,205.70,117.11,564646.50,321466.95,243179.55',\n 'Middle East and North Africa,Algeria,Beverages,Online,M,10/22/2012,425430381,12/5/2012,3159,47.45,31.79,149894.55,100424.61,49469.94',\n 'Sub-Saharan Africa,Equatorial Guinea,Vegetables,Offline,M,7/20/2016,506722772,8/8/2016,9383,154.06,90.93,1445544.98,853196.19,592348.79',\n 'Sub-Saharan Africa,Uganda,Office Supplies,Offline,C,4/7/2010,802427089,4/26/2010,4862,651.21,524.96,3166183.02,2552355.52,613827.50',\n 'Asia,Thailand,Cosmetics,Offline,H,7/14/2015,367279660,8/9/2015,5068,437.20,263.33,2215729.60,1334556.44,881173.16',\n 'Middle East and North Africa,Turkey,Personal Care,Offline,H,5/10/2013,126329314,5/21/2013,2506,81.73,56.67,204815.38,142015.02,62800.36',\n 'Asia,Kazakhstan,Personal Care,Offline,H\n\n*** WARNING: max output size exceeded, skipping output. ***\n\n72974.12',\n 'Australia and Oceania,Marshall Islands,Cereal,Online,C,11/14/2012,551653850,1/1/2013,5488,205.70,117.11,1128881.60,642699.68,486181.92',\n 'Central America and the Caribbean,Dominica,Meat,Online,L,3/26/2014,272182691,4/30/2014,3762,421.89,364.69,1587150.18,1371963.78,215186.40',\n 'Europe,Macedonia,Office Supplies,Online,M,6/17/2016,823236739,8/1/2016,2900,651.21,524.96,1888509.00,1522384.00,366125.00',\n 'Sub-Saharan Africa,Mozambique,Personal Care,Offline,L,12/2/2013,162677323,1/11/2014,8690,81.73,56.67,710233.70,492462.30,217771.40',\n 'Central America and the Caribbean,The Bahamas,Household,Online,M,5/29/2013,818678271,6/25/2013,3948,668.27,502.54,2638329.96,1984027.92,654302.04',\n 'Europe,Armenia,Fruits,Offline,L,3/17/2015,439725911,4/7/2015,3524,9.33,6.92,32878.92,24386.08,8492.84',\n 'Asia,Japan,Beverages,Offline,H,11/17/2016,344619071,12/16/2016,9296,47.45,31.79,441095.20,295519.84,145575.36',\n 'Sub-Saharan Africa,Ghana,Baby Food,Offline,M,1/20/2017,572469079,2/6/2017,5177,255.28,159.42,1321584.56,825317.34,496267.22',\n 'Sub-Saharan Africa,Lesotho,Beverages,Offline,M,8/22/2011,332699763,10/5/2011,2108,47.45,31.79,100024.60,67013.32,33011.28',\n 'Europe,Cyprus,Snacks,Online,H,10/1/2012,255047452,10/30/2012,3064,152.58,97.44,467505.12,298556.16,168948.96',\n 'Australia and Oceania,Samoa ,Cosmetics,Online,H,8/22/2014,139560973,9/21/2014,8048,437.20,263.33,3518585.60,2119279.84,1399305.76',\n 'Middle East and North Africa,Tunisia ,Clothes,Online,M,8/14/2012,306601655,9/2/2012,9098,109.28,35.84,994229.44,326072.32,668157.12',\n 'Asia,Indonesia,Beverages,Offline,M,6/6/2014,246843326,6/12/2014,5280,47.45,31.79,250536.00,167851.20,82684.80',\n 'Asia,Singapore,Office Supplies,Online,M,9/24/2013,871272313,10/9/2013,7694,651.21,524.96,5010409.74,4039042.24,971367.50',\n 'Central America and the Caribbean,Panama,Fruits,Online,M,8/8/2016,461187446,8/14/2016,4469,9.33,6.92,41695.77,30925.48,10770.29',\n 'Sub-Saharan Africa,Burundi,Cosmetics,Offline,M,1/18/2015,518200051,1/22/2015,5766,437.20,263.33,2520895.20,1518360.78,1002534.42',\n 'Sub-Saharan Africa,Chad,Beverages,Offline,M,6/30/2013,814233958,7/23/2013,8777,47.45,31.79,416468.65,279020.83,137447.82',\n 'Asia,Japan,Cosmetics,Offline,H,6/7/2017,741525495,7/16/2017,2727,437.20,263.33,1192244.40,718100.91,474143.49',\n 'Europe,Malta,Meat,Offline,C,6/26/2014,662623488,7/11/2014,3870,421.89,364.69,1632714.30,1411350.30,221364.00',\n 'Europe,San Marino,Vegetables,Offline,M,1/22/2016,560389268,2/22/2016,492,154.06,90.93,75797.52,44737.56,31059.96',\n 'Middle East and North Africa,Morocco,Fruits,Offline,C,9/12/2015,487996661,9/13/2015,7911,9.33,6.92,73809.63,54744.12,19065.51',\n 'North America,Greenland,Vegetables,Online,L,7/29/2015,118931996,8/4/2015,3475,154.06,90.93,535358.50,315981.75,219376.75',\n 'Sub-Saharan Africa,Ethiopia,Cosmetics,Online,L,2/24/2015,996994102,3/10/2015,1565,437.20,263.33,684218.00,412111.45,272106.55',\n 'Asia,India,Personal Care,Online,C,12/10/2014,686294305,12/15/2014,8591,81.73,56.67,702142.43,486851.97,215290.46',\n 'Australia and Oceania,New Zealand,Baby Food,Offline,C,10/2/2012,421256434,11/20/2012,7995,255.28,159.42,2040963.60,1274562.90,766400.70',\n 'Asia,Bangladesh,Fruits,Online,L,1/8/2015,156616818,2/4/2015,5252,9.33,6.92,49001.16,36343.84,12657.32',\n 'Asia,Brunei,Vegetables,Online,C,4/25/2010,817424285,5/6/2010,2866,154.06,90.93,441535.96,260605.38,180930.58',\n 'Sub-Saharan Africa,Ethiopia,Cereal,Offline,M,12/27/2010,249040162,2/1/2011,5373,205.70,117.11,1105226.10,629232.03,475994.07',\n 'Europe,France,Office Supplies,Offline,C,7/12/2011,867138278,8/4/2011,4341,651.21,524.96,2826902.61,2278851.36,548051.25',\n 'Sub-Saharan Africa,Niger,Beverages,Offline,L,1/22/2015,207704961,1/29/2015,3368,47.45,31.79,159811.60,107068.72,52742.88',\n 'Central America and the Caribbean,Nicaragua,Vegetables,Offline,H,5/31/2014,377039039,6/14/2014,3085,154.06,90.93,475275.10,280519.05,194756.05',\n 'Asia,Kazakhstan,Cereal,Offline,H,1/21/2011,401751840,2/21/2011,6152,205.70,117.11,1265466.40,720460.72,545005.68',\n 'Sub-Saharan Africa,Lesotho,Clothes,Offline,L,4/23/2011,278767192,5/25/2011,2262,109.28,35.84,247191.36,81070.08,166121.28',\n 'Europe,Montenegro,Household,Online,H,12/25/2014,525321424,12/31/2014,3138,668.27,502.54,2097031.26,1576970.52,520060.74',\n 'Australia and Oceania,Vanuatu,Vegetables,Online,H,8/5/2011,828963363,9/6/2011,7535,154.06,90.93,1160842.10,685157.55,475684.55',\n 'Europe,Cyprus,Clothes,Online,H,6/10/2014,497554337,7/28/2014,6240,109.28,35.84,681907.20,223641.60,458265.60',\n 'Sub-Saharan Africa,Burundi,Fruits,Offline,M,5/22/2011,709268176,6/25/2011,7070,9.33,6.92,65963.10,48924.40,17038.70',\n 'Middle East and North Africa,Saudi Arabia,Snacks,Offline,L,1/29/2014,462591207,3/1/2014,9873,152.58,97.44,1506422.34,962025.12,544397.22',\n 'Europe,Vatican City,Personal Care,Offline,M,4/15/2016,626322257,5/5/2016,1529,81.73,56.67,124965.17,86648.43,38316.74',\n 'Australia and Oceania,Tonga,Vegetables,Offline,M,11/9/2012,789572656,12/24/2012,950,154.06,90.93,146357.00,86383.50,59973.50',\n 'Europe,Netherlands,Baby Food,Offline,C,1/21/2011,611766231,2/26/2011,4077,255.28,159.42,1040776.56,649955.34,390821.22',\n 'Central America and the Caribbean,Honduras,Office Supplies,Offline,C,8/21/2011,272639310,9/29/2011,8885,651.21,524.96,5786000.85,4664269.60,1121731.25',\n 'Central America and the Caribbean,Honduras,Fruits,Online,H,8/22/2012,922240722,9/29/2012,379,9.33,6.92,3536.07,2622.68,913.39',\n 'Europe,Montenegro,Baby Food,Offline,H,3/3/2013,630931794,4/1/2013,5593,255.28,159.42,1427781.04,891636.06,536144.98',\n 'Europe,San Marino,Office Supplies,Offline,L,3/4/2017,239386355,4/20/2017,8597,651.21,524.96,5598452.37,4513081.12,1085371.25',\n 'Asia,Bangladesh,Clothes,Online,C,7/11/2014,208590734,8/19/2014,5488,109.28,35.84,599728.64,196689.92,403038.72',\n 'Sub-Saharan Africa,Cameroon,Personal Care,Offline,M,2/3/2015,169843757,3/19/2015,9397,81.73,56.67,768016.81,532527.99,235488.82',\n 'Asia,Philippines,Cereal,Online,H,9/1/2014,274756753,9/9/2014,5484,205.70,117.11,1128058.80,642231.24,485827.56',\n 'Middle East and North Africa,Iraq,Personal Care,Online,H,11/19/2013,745253551,12/12/2013,5942,81.73,56.67,485639.66,336733.14,148906.52',\n 'Sub-Saharan Africa,Lesotho,Cereal,Online,C,6/15/2014,523570477,7/23/2014,4994,205.70,117.11,1027265.80,584847.34,442418.46',\n 'Asia,Uzbekistan,Snacks,Online,H,5/10/2015,422256362,6/23/2015,3896,152.58,97.44,594451.68,379626.24,214825.44',\n 'Europe,Germany,Household,Offline,M,8/21/2016,874172532,10/2/2016,5933,668.27,502.54,3964845.91,2981569.82,983276.09',\n 'Australia and Oceania,Papua New Guinea,Household,Offline,C,8/18/2015,582492816,9/11/2015,1423,668.27,502.54,950948.21,715114.42,235833.79',\n 'Europe,Iceland,Personal Care,Offline,C,9/19/2010,570703542,11/3/2010,2715,81.73,56.67,221896.95,153859.05,68037.90',\n 'Europe,Hungary,Cosmetics,Online,M,9/20/2012,132603538,11/6/2012,9188,437.20,263.33,4016993.60,2419476.04,1597517.56',\n 'Central America and the Caribbean,Panama,Cereal,Offline,M,10/20/2010,882304131,11/25/2010,2254,205.70,117.11,463647.80,263965.94,199681.86',\n 'Middle East and North Africa,Tunisia ,Baby Food,Online,M,2/13/2014,904229152,2/19/2014,355,255.28,159.42,90624.40,56594.10,34030.30',\n 'Middle East and North Africa,Iraq,Office Supplies,Offline,L,3/6/2010,603114926,3/22/2010,3964,651.21,524.96,2581396.44,2080941.44,500455.00',\n 'Sub-Saharan Africa,Liberia,Snacks,Online,H,1/20/2014,454010283,1/30/2014,587,152.58,97.44,89564.46,57197.28,32367.18',\n 'Europe,Czech Republic,Meat,Offline,L,8/6/2011,552276551,9/24/2011,9759,421.89,364.69,4117224.51,3559009.71,558214.80',\n 'Europe,Macedonia,Snacks,Offline,M,3/22/2016,163587558,4/19/2016,8048,152.58,97.44,1227963.84,784197.12,443766.72',\n 'Central America and the Caribbean,Haiti,Beverages,Offline,M,2/16/2012,873929631,2/25/2012,4053,47.45,31.79,192314.85,128844.87,63469.98',\n 'Sub-Saharan Africa,Mauritania,Cereal,Online,L,1/26/2011,739601600,3/10/2011,3404,205.70,117.11,700202.80,398642.44,301560.36',\n 'Sub-Saharan Africa,Nigeria,Cosmetics,Online,M,9/25/2010,137214791,11/2/2010,3761,437.20,263.33,1644309.20,990384.13,653925.07',\n 'Sub-Saharan Africa,Tanzania,Fruits,Offline,C,8/26/2013,413693034,10/13/2013,9817,9.33,6.92,91592.61,67933.64,23658.97',\n 'Asia,Laos,Fruits,Offline,H,11/7/2015,736272656,12/12/2015,8296,9.33,6.92,77401.68,57408.32,19993.36',\n 'Sub-Saharan Africa,Nigeria,Baby Food,Offline,L,8/18/2010,342502486,8/18/2010,2952,255.28,159.42,753586.56,470607.84,282978.72',\n 'Central America and the Caribbean,Dominica,Cosmetics,Offline,L,1/29/2015,790243852,2/10/2015,9572,437.20,263.33,4184878.40,2520594.76,1664283.64',\n 'Asia,Malaysia,Personal Care,Online,M,4/9/2013,107670581,5/1/2013,972,81.73,56.67,79441.56,55083.24,24358.32',\n 'Australia and Oceania,Nauru,Household,Online,H,1/24/2013,443269002,3/13/2013,2003,668.27,502.54,1338544.81,1006587.62,331957.19',\n 'Europe,Andorra,Baby Food,Offline,M,1/10/2012,415837943,2/23/2012,4543,255.28,159.42,1159737.04,724245.06,435491.98',\n 'Australia and Oceania,Papua New Guinea,Beverages,Offline,L,5/8/2016,964488732,6/6/2016,2504,47.45,31.79,118814.80,79602.16,39212.64',\n 'Europe,Hungary,Baby Food,Offline,H,5/17/2014,398645198,5/26/2014,6828,255.28,159.42,1743051.84,1088519.76,654532.08',\n 'Sub-Saharan Africa,Burundi,Fruits,Online,C,8/23/2010,248043668,8/29/2010,488,9.33,6.92,4553.04,3376.96,1176.08',\n 'North America,Canada,Cosmetics,Online,C,7/20/2014,312732970,8/17/2014,3490,437.20,263.33,1525828.00,919021.70,606806.30',\n 'Europe,Latvia,Personal Care,Offline,H,11/2/2013,913074433,12/17/2013,7870,81.73,56.67,643215.10,445992.90,197222.20',\n 'Middle East and North Africa,Iraq,Household,Offline,C,3/31/2016,639741885,4/18/2016,2695,668.27,502.54,1800987.65,1354345.30,446642.35',\n 'Sub-Saharan Africa,Angola,Office Supplies,Online,C,6/9/2015,403721654,6/29/2015,9064,651.21,524.96,5902567.44,4758237.44,1144330.00',\n 'Asia,Bhutan,Clothes,Offline,H,6/27/2017,286312568,7/9/2017,5106,109.28,35.84,557983.68,182999.04,374984.64',\n 'Europe,Andorra,Fruits,Offline,H,5/27/2014,889125955,6/15/2014,983,9.33,6.92,9171.39,6802.36,2369.03',\n 'Australia and Oceania,Australia,Beverages,Offline,M,8/10/2010,184085643,8/14/2010,3887,47.45,31.79,184438.15,123567.73,60870.42',\n 'Europe,Austria,Fruits,Offline,H,8/6/2011,263427960,9/20/2011,3042,9.33,6.92,28381.86,21050.64,7331.22',\n 'Asia,Sri Lanka,Beverages,Offline,H,7/23/2012,589701735,7/26/2012,4703,47.45,31.79,223157.35,149508.37,73648.98',\n 'Asia,Bhutan,Vegetables,Offline,C,5/3/2017,245768296,5/12/2017,7155,154.06,90.93,1102299.30,650604.15,451695.15',\n 'Australia and Oceania,Vanuatu,Beverages,Offline,L,11/22/2011,184801471,12/20/2011,5717,47.45,31.79,271271.65,181743.43,89528.22',\n 'Australia and Oceania,Solomon Islands,Baby Food,Online,M,7/21/2013,980287587,8/30/2013,7736,255.28,159.42,1974846.08,1233273.12,741572.96',\n 'Middle East and North Africa,Tunisia ,Baby Food,Online,C,3/14/2014,576025474,3/25/2014,7593,255.28,159.42,1938341.04,1210476.06,727864.98',\n 'Asia,Bangladesh,Snacks,Online,H,5/10/2014,136126458,6/2/2014,1699,152.58,97.44,259233.42,165550.56,93682.86',\n 'Sub-Saharan Africa,Mali,Beverages,Online,L,10/26/2011,895014369,12/11/2011,3496,47.45,31.79,165885.20,111137.84,54747.36',\n 'Asia,Turkmenistan,Beverages,Online,C,1/10/2013,107425534,1/21/2013,8458,47.45,31.79,401332.10,268879.82,132452.28',\n 'Sub-Saharan Africa,Niger,Cosmetics,Offline,M,2/15/2014,498408782,3/28/2014,9089,437.20,263.33,3973710.80,2393406.37,1580304.43',\n 'Sub-Saharan Africa,Benin,Cosmetics,Online,M,4/27/2012,813325440,5/15/2012,9927,437.20,263.33,4340084.40,2614076.91,1726007.49',\n 'Sub-Saharan Africa,The Gambia,Baby Food,Offline,M,4/1/2017,767849338,4/17/2017,2537,255.28,159.42,647645.36,404448.54,243196.82',\n 'Middle East and North Africa,Algeria,Fruits,Offline,L,11/18/2016,597966802,12/7/2016,520,9.33,6.92,4851.60,3598.40,1253.20',\n 'Middle East and North Africa,United Arab Emirates,Personal Care,Online,C,8/18/2011,609976661,8/20/2011,4504,81.73,56.67,368111.92,255241.68,112870.24',\n 'Europe,Liechtenstein,Meat,Online,H,7/12/2010,730490243,7/14/2010,7151,421.89,364.69,3016935.39,2607898.19,409037.20',\n 'Middle East and North Africa,Yemen,Personal Care,Online,H,4/29/2012,956431376,6/14/2012,8153,81.73,56.67,666344.69,462030.51,204314.18',\n 'Europe,Poland,Cereal,Online,L,11/1/2016,905036389,11/20/2016,9234,205.70,117.11,1899433.80,1081393.74,818040.06',\n 'Australia and Oceania,Federated States of Micronesia,Meat,Offline,H,7/28/2013,263854110,7/30/2013,9149,421.89,364.69,3859871.61,3336548.81,523322.80',\n 'Central America and the Caribbean,Honduras,Baby Food,Online,C,11/2/2015,140745866,12/6/2015,8684,255.28,159.42,2216851.52,1384403.28,832448.24',\n 'Sub-Saharan Africa,Djibouti,Clothes,Online,C,6/28/2011,813885486,8/10/2011,5656,109.28,35.84,618087.68,202711.04,415376.64',\n 'Europe,Montenegro,Clothes,Online,C,3/4/2012,381759297,3/25/2012,9914,109.28,35.84,1083401.92,355317.76,728084.16',\n 'Europe,Belarus,Cosmetics,Offline,M,9/2/2011,613166129,10/21/2011,8338,437.20,263.33,3645373.60,2195645.54,1449728.06',\n 'Sub-Saharan Africa,Democratic Republic of the Congo,Snacks,Offline,H,5/22/2012,197217309,6/11/2012,9839,152.58,97.44,1501234.62,958712.16,542522.46',\n 'Central America and the Caribbean,The Bahamas,Clothes,Offline,M,1/9/2014,593336665,1/24/2014,359,109.28,35.84,39231.52,12866.56,26364.96',\n 'Europe,Ukraine,Office Supplies,Offline,M,5/3/2017,181260526,6/3/2017,7872,651.21,524.96,5126325.12,4132485.12,993840.00',\n 'Sub-Saharan Africa,Chad,Snacks,Online,L,10/14/2012,111037719,12/3/2012,7383,152.58,97.44,1126498.14,719399.52,407098.62',\n 'Asia,Tajikistan,Office Supplies,Online,M,8/16/2014,253029572,9/3/2014,5928,651.21,524.96,3860372.88,3111962.88,748410.00',\n 'Middle East and North Africa,Algeria,Clothes,Offline,H,8/27/2011,547909915,9/17/2011,7574,109.28,35.84,827686.72,271452.16,556234.56',\n 'Asia,Myanmar,Vegetables,Online,M,6/19/2016,556665074,6/26/2016,8421,154.06,90.93,1297339.26,765721.53,531617.73',\n 'Central America and the Caribbean,Dominican Republic,Household,Offline,L,3/19/2016,810593879,4/1/2016,1597,668.27,502.54,1067227.19,802556.38,264670.81',\n 'Middle East and North Africa,Oman,Clothes,Offline,L,4/4/2014,561307656,5/12/2014,2264,109.28,35.84,247409.92,81141.76,166268.16',\n 'Australia and Oceania,Fiji,Cosmetics,Offline,L,3/27/2011,930730235,4/15/2011,2614,437.20,263.33,1142840.80,688344.62,454496.18',\n 'Central America and the Caribbean,Barbados,Clothes,Online,L,6/4/2016,861097943,6/12/2016,6872,109.28,35.84,750972.16,246292.48,504679.68',\n 'Europe,Georgia,Snacks,Online,C,9/1/2013,264959609,10/18/2013,6291,152.58,97.44,959880.78,612995.04,346885.74',\n 'Europe,Malta,Fruits,Online,L,7/31/2010,475176560,9/4/2010,4159,9.33,6.92,38803.47,28780.28,10023.19',\n 'Europe,Armenia,Baby Food,Offline,H,1/23/2012,194922626,2/7/2012,791,255.28,159.42,201926.48,126101.22,75825.26',\n 'Europe,France,Snacks,Offline,M,7/3/2016,447684133,8/14/2016,8538,152.58,97.44,1302728.04,831942.72,470785.32',\n 'Europe,Liechtenstein,Personal Care,Online,H,1/4/2012,527259910,1/11/2012,6779,81.73,56.67,554047.67,384165.93,169881.74',\n 'Asia,Uzbekistan,Beverages,Online,M,6/15/2010,247761285,7/3/2010,6925,47.45,31.79,328591.25,220145.75,108445.50',\n 'Central America and the Caribbean,Nicaragua,Meat,Offline,C,6/3/2013,393612086,6/21/2013,7418,421.89,364.69,3129580.02,2705270.42,424309.60',\n 'Sub-Saharan Africa,Rwanda,Clothes,Offline,M,12/30/2015,469548642,1/13/2016,8732,109.28,35.84,954232.96,312954.88,641278.08',\n 'Asia,Vietnam,Fruits,Online,M,7/13/2010,950619781,7/17/2010,8373,9.33,6.92,78120.09,57941.16,20178.93',\n 'Sub-Saharan Africa,Guinea,Cosmetics,Offline,M,3/2/2013,132186830,4/16/2013,5875,437.20,263.33,2568550.00,1547063.75,1021486.25',\n 'Europe,Hungary,Baby Food,Online,M,8/10/2014,879923617,9/15/2014,7807,255.28,159.42,1992970.96,1244591.94,748379.02',\n 'Europe,Portugal,Snacks,Offline,H,3/9/2014,279816472,4/14/2014,2767,152.58,97.44,422188.86,269616.48,152572.38',\n 'Australia and Oceania,Solomon Islands,Beverages,Offline,C,2/4/2016,888164222,3/20/2016,6385,47.45,31.79,302968.25,202979.15,99989.10',\n \"Sub-Saharan Africa,Cote d'Ivoire,Cosmetics,Online,H,6/11/2010,381578195,7/5/2010,6322,437.20,263.33,2763978.40,1664772.26,1099206.14\",\n 'Sub-Saharan Africa,Uganda,Household,Online,M,11/27/2014,106982219,12/22/2014,7271,668.27,502.54,4858991.17,3653968.34,1205022.83',\n 'Central America and the Caribbean,Haiti,Fruits,Offline,H,5/14/2010,131612622,5/25/2010,5954,9.33,6.92,55550.82,41201.68,14349.14',\n 'Europe,Cyprus,Snacks,Online,M,11/5/2012,593018233,12/11/2012,6128,152.58,97.44,935010.24,597112.32,337897.92',\n 'Europe,Macedonia,Baby Food,Online,H,9/16/2016,349060380,9/28/2016,3578,255.28,159.42,913391.84,570404.76,342987.08',\n 'Central America and the Caribbean,Trinidad and Tobago,Household,Online,M,8/11/2013,127912890,9/26/2013,1122,668.27,502.54,749798.94,563849.88,185949.06',\n 'Sub-Saharan Africa,Cape Verde,Cosmetics,Offline,C,5/27/2011,278062093,5/28/2011,3607,437.20,263.33,1576980.40,949831.31,627149.09',\n 'Central America and the Caribbean,Costa Rica,Fruits,Offline,H,3/21/2015,318306815,4/26/2015,2915,9.33,6.92,27196.95,20171.80,7025.15',\n 'Middle East and North Africa,Somalia,Cereal,Online,H,2/13/2016,287758386,3/2/2016,2956,205.70,117.11,608049.20,346177.16,261872.04',\n 'Asia,Brunei,Fruits,Offline,L,1/3/2010,295840632,1/6/2010,4672,9.33,6.92,43589.76,32330.24,11259.52',\n 'Asia,Taiwan,Beverages,Online,H,7/30/2016,972289884,8/11/2016,1038,47.45,31.79,49253.10,32998.02,16255.08',\n 'Middle East and North Africa,Afghanistan,Vegetables,Online,C,12/6/2014,317154967,12/9/2014,2058,154.06,90.93,317055.48,187133.94,129921.54',\n 'Central America and the Caribbean,Guatemala,Meat,Offline,H,7/12/2015,450797212,8/30/2015,9767,421.89,364.69,4120599.63,3561927.23,558672.40',\n 'Europe,Latvia,Household,Offline,C,12/18/2010,863890445,12/25/2010,3235,668.27,502.54,2161853.45,1625716.90,536136.55',\n 'Europe,Armenia,Personal Care,Online,C,1/16/2010,667420995,1/18/2010,3559,81.73,56.67,290877.07,201688.53,89188.54',\n 'Europe,Montenegro,Vegetables,Offline,H,4/10/2011,842687690,5/26/2011,8869,154.06,90.93,1366358.14,806458.17,559899.97',\n 'Australia and Oceania,East Timor,Personal Care,Offline,H,3/25/2014,191301858,4/6/2014,9326,81.73,56.67,762213.98,528504.42,233709.56',\n 'Middle East and North Africa,Lebanon,Cereal,Online,L,10/8/2015,285187327,10/22/2015,2123,205.70,117.11,436701.10,248624.53,188076.57',\n 'Central America and the Caribbean,Grenada,Meat,Offline,M,10/20/2013,516580426,11/18/2013,6483,421.89,364.69,2735112.87,2364285.27,370827.60',\n 'Sub-Saharan Africa,Seychelles ,Meat,Offline,L,2/9/2011,348029983,3/2/2011,8661,421.89,364.69,3653989.29,3158580.09,495409.20',\n 'Central America and the Caribbean,Grenada,Office Supplies,Offline,L,7/7/2011,662397325,7/23/2011,6943,651.21,524.96,4521351.03,3644797.28,876553.75',\n 'Sub-Saharan Africa,Nigeria,Snacks,Offline,L,2/19/2016,612856280,3/24/2016,6647,152.58,97.44,1014199.26,647683.68,366515.58',\n 'Europe,San Marino,Beverages,Offline,L,1/2/2012,772893178,1/2/2012,5122,47.45,31.79,243038.90,162828.38,80210.52',\n 'Sub-Saharan Africa,Mauritius ,Baby Food,Online,H,9/21/2013,886306846,10/27/2013,6746,255.28,159.42,1722118.88,1075447.32,646671.56',\n 'Asia,Indonesia,Vegetables,Online,C,3/29/2014,317208611,4/17/2014,7932,154.06,90.93,1222003.92,721256.76,500747.16',\n 'Sub-Saharan Africa,Republic of the Congo,Baby Food,Offline,L,5/11/2011,300022304,6/2/2011,2122,255.28,159.42,541704.16,338289.24,203414.92',\n 'Europe,Czech Republic,Snacks,Online,M,7/5/2011,789484250,7/30/2011,4789,152.58,97.44,730705.62,466640.16,264065.46',\n 'Sub-Saharan Africa,Republic of the Congo,Cereal,Offline,M,11/3/2010,910643279,12/22/2010,8438,205.70,117.11,1735696.60,988174.18,747522.42',\n 'Central America and the Caribbean,Saint Kitts and Nevis ,Meat,Offline,L,2/17/2014,308860719,3/18/2014,7605,421.89,364.69,3208473.45,2773467.45,435006.00',\n 'Middle East and North Africa,Somalia,Snacks,Online,M,11/14/2015,499810397,12/21/2015,3858,152.58,97.44,588653.64,375923.52,212730.12',\n 'North America,Greenland,Clothes,Online,C,8/10/2011,819478642,8/18/2011,796,109.28,35.84,86986.88,28528.64,58458.24',\n 'Australia and Oceania,Palau,Baby Food,Offline,L,11/22/2016,674164283,12/10/2016,9048,255.28,159.42,2309773.44,1442432.16,867341.28',\n 'Sub-Saharan Africa,Mauritius ,Cereal,Offline,L,6/22/2010,890478646,6/24/2010,1275,205.70,117.11,262267.50,149315.25,112952.25',\n 'Sub-Saharan Africa,Mauritania,Meat,Online,M,10/26/2013,565345561,12/2/2013,7170,421.89,364.69,3024951.30,2614827.30,410124.00',\n 'North America,Canada,Household,Online,H,8/4/2011,216001355,8/15/2011,8456,668.27,502.54,5650891.12,4249478.24,1401412.88',\n 'Australia and Oceania,Palau,Beverages,Online,M,1/10/2016,429994857,1/11/2016,3888,47.45,31.79,184485.60,123599.52,60886.08',\n 'Australia and Oceania,Solomon Islands,Office Supplies,Online,C,2/17/2010,515187394,4/6/2010,4253,651.21,524.96,2769596.13,2232654.88,536941.25',\n 'Sub-Saharan Africa,Nigeria,Office Supplies,Online,L,1/24/2012,749752795,2/23/2012,7368,651.21,524.96,4798115.28,3867905.28,930210.00',\n 'Sub-Saharan Africa,Comoros,Beverages,Offline,M,9/29/2010,132177388,11/7/2010,3081,47.45,31.79,146193.45,97944.99,48248.46',\n 'Asia,Thailand,Baby Food,Online,L,2/6/2015,431260001,2/11/2015,8273,255.28,159.42,2111931.44,1318881.66,793049.78',\n 'Europe,Vatican City,Personal Care,Offline,M,5/24/2012,336111962,6/16/2012,1854,81.73,56.67,151527.42,105066.18,46461.24',\n 'Sub-Saharan Africa,Equatorial Guinea,Personal Care,Online,M,6/20/2017,406157100,7/13/2017,9766,81.73,56.67,798175.18,553439.22,244735.96',\n 'Europe,San Marino,Household,Offline,H,12/9/2015,821131742,12/9/2015,9985,668.27,502.54,6672675.95,5017861.90,1654814.05',\n 'Sub-Saharan Africa,Sao Tome and Principe,Personal Care,Online,M,5/28/2013,931084716,7/7/2013,7513,81.73,56.67,614037.49,425761.71,188275.78',\n 'Sub-Saharan Africa,Seychelles ,Baby Food,Offline,H,7/20/2016,606377351,8/25/2016,9388,255.28,159.42,2396568.64,1496634.96,899933.68',\n 'Sub-Saharan Africa,Togo,Vegetables,Online,L,3/7/2014,687683475,4/1/2014,9677,154.06,90.93,1490838.62,879929.61,610909.01',\n 'Middle East and North Africa,Somalia,Cosmetics,Offline,C,4/23/2011,735989415,4/27/2011,4478,437.20,263.33,1957781.60,1179191.74,778589.86',\n 'Central America and the Caribbean,Antigua and Barbuda ,Snacks,Offline,M,3/27/2010,382594001,4/7/2010,6922,152.58,97.44,1056158.76,674479.68,381679.08',\n 'Europe,Liechtenstein,Household,Online,M,4/27/2014,679108560,6/11/2014,2169,668.27,502.54,1449477.63,1090009.26,359468.37',\n 'Sub-Saharan Africa,Equatorial Guinea,Beverages,Online,M,8/18/2016,947456920,9/30/2016,2412,47.45,31.79,114449.40,76677.48,37771.92',\n 'Europe,Lithuania,Personal Care,Offline,L,4/19/2011,129875409,4/26/2011,1875,81.73,56.67,153243.75,106256.25,46987.50',\n 'Central America and the Caribbean,Panama,Baby Food,Offline,H,6/14/2012,838912856,7/11/2012,1811,255.28,159.42,462312.08,288709.62,173602.46',\n 'North America,United States of America,Beverages,Offline,C,7/25/2012,807430589,7/30/2012,5509,47.45,31.79,261402.05,175131.11,86270.94',\n 'Sub-Saharan Africa,Angola,Office Supplies,Online,L,7/16/2016,538602435,8/19/2016,3284,651.21,524.96,2138573.64,1723968.64,414605.00',\n 'Europe,Ireland,Fruits,Offline,H,3/12/2015,155914723,3/29/2015,7486,9.33,6.92,69844.38,51803.12,18041.26',\n 'Europe,Spain,Fruits,Online,H,10/9/2011,753166282,11/25/2011,7495,9.33,6.92,69928.35,51865.40,18062.95',\n 'Sub-Saharan Africa,Chad,Baby Food,Online,C,7/30/2010,344468438,8/27/2010,4721,255.28,159.42,1205176.88,752621.82,452555.06',\n 'Asia,Malaysia,Cosmetics,Offline,L,3/13/2013,614245021,3/20/2013,7606,437.20,263.33,3325343.20,2002887.98,1322455.22',\n 'Central America and the Caribbean,Belize,Fruits,Online,L,9/18/2014,167232358,10/30/2014,6626,9.33,6.92,61820.58,45851.92,15968.66',\n 'Central America and the Caribbean,Antigua and Barbuda ,Snacks,Online,C,1/20/2015,378479278,2/15/2015,9284,152.58,97.44,1416552.72,904632.96,511919.76',\n 'Europe,Andorra,Cereal,Offline,M,3/20/2015,443347108,4/9/2015,5116,205.70,117.11,1052361.20,599134.76,453226.44',\n 'Europe,Iceland,Office Supplies,Online,C,6/19/2013,527509677,7/10/2013,691,651.21,524.96,449986.11,362747.36,87238.75',\n 'Europe,Ireland,Beverages,Offline,H,9/20/2016,416953313,10/29/2016,4606,47.45,31.79,218554.70,146424.74,72129.96',\n 'Middle East and North Africa,Libya,Beverages,Online,M,1/8/2014,867976844,2/1/2014,2491,47.45,31.79,118197.95,79188.89,39009.06',\n 'Sub-Saharan Africa,Burkina Faso,Vegetables,Offline,M,8/16/2010,457191598,9/23/2010,2008,154.06,90.93,309352.48,182587.44,126765.04',\n 'Australia and Oceania,Solomon Islands,Fruits,Offline,H,8/19/2016,531521403,9/19/2016,7850,9.33,6.92,73240.50,54322.00,18918.50',\n 'Middle East and North Africa,Oman,Office Supplies,Online,L,12/6/2012,258202588,12/23/2012,6738,651.21,524.96,4387852.98,3537180.48,850672.50',\n 'Sub-Saharan Africa,Sierra Leone,Snacks,Online,M,7/15/2015,674783980,9/2/2015,2430,152.58,97.44,370769.40,236779.20,133990.20',\n ...]"
     ]
    }
   ],
   "source": [
    "rdd_sales_wh.collect()"
   ]
  },
  {
   "cell_type": "code",
   "execution_count": 0,
   "metadata": {
    "application/vnd.databricks.v1+cell": {
     "cellMetadata": {
      "byteLimit": 2048000,
      "rowLimit": 10000
     },
     "inputWidgets": {},
     "nuid": "d8684754-453e-4120-958a-74d4b96f9480",
     "showTitle": false,
     "title": ""
    }
   },
   "outputs": [],
   "source": [
    " rdd_sales_wh =rdd_sales.filter(lambda x:x!=header)"
   ]
  },
  {
   "cell_type": "code",
   "execution_count": 0,
   "metadata": {
    "application/vnd.databricks.v1+cell": {
     "cellMetadata": {
      "byteLimit": 2048000,
      "rowLimit": 10000
     },
     "inputWidgets": {},
     "nuid": "acda9377-2220-4a5d-94df-07c574f37aae",
     "showTitle": false,
     "title": ""
    }
   },
   "outputs": [],
   "source": [
    "rdd_countries = rdd_sales_wh.map(lambda row: row.split(',')[1])"
   ]
  },
  {
   "cell_type": "code",
   "execution_count": 0,
   "metadata": {
    "application/vnd.databricks.v1+cell": {
     "cellMetadata": {
      "byteLimit": 2048000,
      "rowLimit": 10000
     },
     "inputWidgets": {},
     "nuid": "3dbd15e7-f4d8-4674-9383-e99975536934",
     "showTitle": false,
     "title": ""
    }
   },
   "outputs": [],
   "source": [
    "distinct_rdd_countries = rdd_countries.distinct().count()"
   ]
  },
  {
   "cell_type": "code",
   "execution_count": 0,
   "metadata": {
    "application/vnd.databricks.v1+cell": {
     "cellMetadata": {
      "byteLimit": 2048000,
      "rowLimit": 10000
     },
     "inputWidgets": {},
     "nuid": "a7f467b0-b7fb-4d44-8659-da8a56702b26",
     "showTitle": false,
     "title": ""
    }
   },
   "outputs": [
    {
     "output_type": "stream",
     "name": "stdout",
     "output_type": "stream",
     "text": [
      "Out[8]: 185"
     ]
    }
   ],
   "source": [
    "distinct_rdd_countries"
   ]
  },
  {
   "cell_type": "markdown",
   "metadata": {
    "application/vnd.databricks.v1+cell": {
     "cellMetadata": {},
     "inputWidgets": {},
     "nuid": "ca23cc44-e1af-4f84-95e2-3c1663751cef",
     "showTitle": false,
     "title": ""
    }
   },
   "source": [
    "d\n",
    "Display the number of units sold in each region"
   ]
  },
  {
   "cell_type": "code",
   "execution_count": 0,
   "metadata": {
    "application/vnd.databricks.v1+cell": {
     "cellMetadata": {
      "byteLimit": 2048000,
      "rowLimit": 10000
     },
     "inputWidgets": {},
     "nuid": "993f4ab2-3a69-4ea1-8515-98e9965c95e9",
     "showTitle": false,
     "title": ""
    }
   },
   "outputs": [],
   "source": [
    "map_rdd= rdd_sales_wh.map(lambda row: tuple(row.split(\",\")))"
   ]
  },
  {
   "cell_type": "code",
   "execution_count": 0,
   "metadata": {
    "application/vnd.databricks.v1+cell": {
     "cellMetadata": {
      "byteLimit": 2048000,
      "rowLimit": 10000
     },
     "inputWidgets": {},
     "nuid": "249b8f69-1fb2-4b5a-8309-8b4f6c7d8152",
     "showTitle": false,
     "title": ""
    }
   },
   "outputs": [
    {
     "output_type": "stream",
     "name": "stdout",
     "output_type": "stream",
     "text": [
      "Out[10]: [('Central America and the Caribbean',\n  'Antigua and Barbuda ',\n  'Baby Food',\n  'Online',\n  'M',\n  '12/20/2013',\n  '957081544',\n  '1/11/2014',\n  '552',\n  '255.28',\n  '159.42',\n  '140914.56',\n  '87999.84',\n  '52914.72'),\n ('Central America and the Caribbean',\n  'Panama',\n  'Snacks',\n  'Offline',\n  'C',\n  '7/5/2010',\n  '301644504',\n  '7/26/2010',\n  '2167',\n  '152.58',\n  '97.44',\n  '330640.86',\n  '211152.48',\n  '119488.38'),\n ('Europe',\n  'Czech Republic',\n  'Beverages',\n  'Offline',\n  'C',\n  '9/12/2011',\n  '478051030',\n  '9/29/2011',\n  '4778',\n  '47.45',\n  '31.79',\n  '226716.10',\n  '151892.62',\n  '74823.48'),\n ('Asia',\n  'North Korea',\n  'Cereal',\n  'Offline',\n  'L',\n  '5/13/2010',\n  '892599952',\n  '6/15/2010',\n  '9016',\n  '205.70',\n  '117.11',\n  '1854591.20',\n  '1055863.76',\n  '798727.44'),\n ('Asia',\n  'Sri Lanka',\n  'Snacks',\n  'Offline',\n  'C',\n  '7/20/2015',\n  '571902596',\n  '7/27/2015',\n  '7542',\n  '152.58',\n  '97.44',\n  '1150758.36',\n  '734892.48',\n  '415865.88'),\n ('Middle East and North Africa',\n  'Morocco',\n  'Personal Care',\n  'Offline',\n  'L',\n  '11/8/2010',\n  '412882792',\n  '11/22/2010',\n  '48',\n  '81.73',\n  '56.67',\n  '3923.04',\n  '2720.16',\n  '1202.88'),\n ('Australia and Oceania',\n  'Federated States of Micronesia',\n  'Clothes',\n  'Offline',\n  'H',\n  '3/28/2011',\n  '932776868',\n  '5/10/2011',\n  '8258',\n  '109.28',\n  '35.84',\n  '902434.24',\n  '295966.72',\n  '606467.52'),\n ('Europe',\n  'Bosnia and Herzegovina',\n  'Clothes',\n  'Online',\n  'M',\n  '10/14/2013',\n  '919133651',\n  '11/4/2013',\n  '927',\n  '109.28',\n  '35.84',\n  '101302.56',\n  '33223.68',\n  '68078.88'),\n ('Middle East and North Africa',\n  'Afghanistan',\n  'Clothes',\n  'Offline',\n  'M',\n  '8/27/2016',\n  '579814469',\n  '10/5/2016',\n  '8841',\n  '109.28',\n  '35.84',\n  '966144.48',\n  '316861.44',\n  '649283.04'),\n ('Sub-Saharan Africa',\n  'Ethiopia',\n  'Baby Food',\n  'Online',\n  'M',\n  '4/13/2015',\n  '192993152',\n  '5/7/2015',\n  '9817',\n  '255.28',\n  '159.42',\n  '2506083.76',\n  '1565026.14',\n  '941057.62'),\n ('Middle East and North Africa',\n  'Turkey',\n  'Office Supplies',\n  'Offline',\n  'C',\n  '9/25/2013',\n  '557156026',\n  '10/15/2013',\n  '3704',\n  '651.21',\n  '524.96',\n  '2412081.84',\n  '1944451.84',\n  '467630.00'),\n ('Middle East and North Africa',\n  'Oman',\n  'Cosmetics',\n  'Online',\n  'M',\n  '5/12/2013',\n  '741101920',\n  '5/17/2013',\n  '7382',\n  '437.20',\n  '263.33',\n  '3227410.40',\n  '1943902.06',\n  '1283508.34'),\n ('Asia',\n  'Malaysia',\n  'Cereal',\n  'Offline',\n  'L',\n  '7/31/2016',\n  '333942162',\n  '8/25/2016',\n  '9762',\n  '205.70',\n  '117.11',\n  '2008043.40',\n  '1143227.82',\n  '864815.58'),\n ('Central America and the Caribbean',\n  'Saint Lucia',\n  'Cosmetics',\n  'Offline',\n  'H',\n  '7/6/2015',\n  '795100581',\n  '7/16/2015',\n  '6786',\n  '437.20',\n  '263.33',\n  '2966839.20',\n  '1786957.38',\n  '1179881.82'),\n ('Central America and the Caribbean',\n  'Saint Vincent and the Grenadines',\n  'Baby Food',\n  'Online',\n  'L',\n  '11/28/2010',\n  '504313504',\n  '12/3/2010',\n  '6428',\n  '255.28',\n  '159.42',\n  '1640939.84',\n  '1024751.76',\n  '616188.08'),\n ('Middle East and North Africa',\n  'Lebanon',\n  'Meat',\n  'Offline',\n  'H',\n  '12/17/2015',\n  '611629760',\n  '1/31/2016',\n  '3693',\n  '421.89',\n  '364.69',\n  '1558039.77',\n  '1346800.17',\n  '211239.60'),\n ('Europe',\n  'Austria',\n  'Cereal',\n  'Offline',\n  'C',\n  '8/13/2014',\n  '987410676',\n  '9/6/2014',\n  '5616',\n  '205.70',\n  '117.11',\n  '1155211.20',\n  '657689.76',\n  '497521.44'),\n ('Europe',\n  'Bulgaria',\n  'Office Supplies',\n  'Online',\n  'L',\n  '10/31/2010',\n  '672330081',\n  '11/29/2010',\n  '6266',\n  '651.21',\n  '524.96',\n  '4080481.86',\n  '3289399.36',\n  '791082.50'),\n ('North America',\n  'Mexico',\n  'Beverages',\n  'Online',\n  'C',\n  '3/13/2017',\n  '127374303',\n  '3/20/2017',\n  '1742',\n  '47.45',\n  '31.79',\n  '82657.90',\n  '55378.18',\n  '27279.72'),\n ('Central America and the Caribbean',\n  'Trinidad and Tobago',\n  'Baby Food',\n  'Offline',\n  'C',\n  '4/16/2013',\n  '783842170',\n  '6/1/2013',\n  '5172',\n  '255.28',\n  '159.42',\n  '1320308.16',\n  '824520.24',\n  '495787.92'),\n ('Middle East and North Africa',\n  'Libya',\n  'Beverages',\n  'Offline',\n  'L',\n  '1/18/2010',\n  '993345010',\n  '3/3/2010',\n  '1718',\n  '47.45',\n  '31.79',\n  '81519.10',\n  '54615.22',\n  '26903.88'),\n ('Middle East and North Africa',\n  'Algeria',\n  'Baby Food',\n  'Offline',\n  'M',\n  '9/5/2015',\n  '977806651',\n  '10/14/2015',\n  '3572',\n  '255.28',\n  '159.42',\n  '911860.16',\n  '569448.24',\n  '342411.92'),\n ('Europe',\n  'Estonia',\n  'Fruits',\n  'Online',\n  'L',\n  '9/28/2016',\n  '579463422',\n  '11/1/2016',\n  '4958',\n  '9.33',\n  '6.92',\n  '46258.14',\n  '34309.36',\n  '11948.78'),\n ('Australia and Oceania',\n  'Tuvalu',\n  'Beverages',\n  'Offline',\n  'L',\n  '3/22/2012',\n  '610864150',\n  '4/7/2012',\n  '7132',\n  '47.45',\n  '31.79',\n  '338413.40',\n  '226726.28',\n  '111687.12'),\n ('Middle East and North Africa',\n  'Saudi Arabia',\n  'Snacks',\n  'Offline',\n  'L',\n  '4/25/2017',\n  '604870164',\n  '6/5/2017',\n  '3378',\n  '152.58',\n  '97.44',\n  '515415.24',\n  '329152.32',\n  '186262.92'),\n ('Central America and the Caribbean',\n  'Cuba',\n  'Cereal',\n  'Online',\n  'H',\n  '3/13/2014',\n  '164655292',\n  '5/1/2014',\n  '4015',\n  '205.70',\n  '117.11',\n  '825885.50',\n  '470196.65',\n  '355688.85'),\n ('Europe',\n  'Montenegro',\n  'Fruits',\n  'Offline',\n  'L',\n  '5/29/2016',\n  '313705861',\n  '7/10/2016',\n  '1390',\n  '9.33',\n  '6.92',\n  '12968.70',\n  '9618.80',\n  '3349.90'),\n ('Central America and the Caribbean',\n  'Guatemala',\n  'Office Supplies',\n  'Online',\n  'M',\n  '1/17/2012',\n  '345820701',\n  '2/1/2012',\n  '4885',\n  '651.21',\n  '524.96',\n  '3181160.85',\n  '2564429.60',\n  '616731.25'),\n ('Sub-Saharan Africa',\n  'Guinea',\n  'Baby Food',\n  'Online',\n  'M',\n  '12/27/2012',\n  '975111138',\n  '1/21/2013',\n  '5910',\n  '255.28',\n  '159.42',\n  '1508704.80',\n  '942172.20',\n  '566532.60'),\n ('Australia and Oceania',\n  'Vanuatu',\n  'Snacks',\n  'Online',\n  'C',\n  '4/1/2013',\n  '286001002',\n  '4/15/2013',\n  '2907',\n  '152.58',\n  '97.44',\n  '443550.06',\n  '283258.08',\n  '160291.98'),\n ('Middle East and North Africa',\n  'United Arab Emirates',\n  'Cosmetics',\n  'Offline',\n  'H',\n  '6/26/2015',\n  '483226621',\n  '8/6/2015',\n  '6350',\n  '437.20',\n  '263.33',\n  '2776220.00',\n  '1672145.50',\n  '1104074.50'),\n ('Australia and Oceania',\n  'Australia',\n  'Clothes',\n  'Offline',\n  'M',\n  '1/17/2012',\n  '241836822',\n  '1/17/2012',\n  '3744',\n  '109.28',\n  '35.84',\n  '409144.32',\n  '134184.96',\n  '274959.36'),\n ('Middle East and North Africa',\n  'Oman',\n  'Clothes',\n  'Online',\n  'H',\n  '7/3/2011',\n  '557192933',\n  '7/5/2011',\n  '4626',\n  '109.28',\n  '35.84',\n  '505529.28',\n  '165795.84',\n  '339733.44'),\n ('Sub-Saharan Africa',\n  'Malawi',\n  'Meat',\n  'Online',\n  'L',\n  '2/17/2012',\n  '694968783',\n  '4/2/2012',\n  '5562',\n  '421.89',\n  '364.69',\n  '2346552.18',\n  '2028405.78',\n  '318146.40'),\n ('Middle East and North Africa',\n  'Lebanon',\n  'Fruits',\n  'Online',\n  'H',\n  '4/5/2013',\n  '441150701',\n  '5/12/2013',\n  '5150',\n  '9.33',\n  '6.92',\n  '48049.50',\n  '35638.00',\n  '12411.50'),\n ('Europe',\n  'Czech Republic',\n  'Cereal',\n  'Online',\n  'M',\n  '7/8/2011',\n  '552037513',\n  '8/5/2011',\n  '9022',\n  '205.70',\n  '117.11',\n  '1855825.40',\n  '1056566.42',\n  '799258.98'),\n ('Australia and Oceania',\n  'Vanuatu',\n  'Cosmetics',\n  'Offline',\n  'C',\n  '2/24/2012',\n  '504240548',\n  '3/27/2012',\n  '4838',\n  '437.20',\n  '263.33',\n  '2115173.60',\n  '1273990.54',\n  '841183.06'),\n ('Europe',\n  'Luxembourg',\n  'Vegetables',\n  'Offline',\n  'L',\n  '2/13/2010',\n  '744683635',\n  '4/1/2010',\n  '7291',\n  '154.06',\n  '90.93',\n  '1123251.46',\n  '662970.63',\n  '460280.83'),\n ('Sub-Saharan Africa',\n  'Benin',\n  'Personal Care',\n  'Online',\n  'L',\n  '8/7/2016',\n  '440603101',\n  '9/15/2016',\n  '3104',\n  '81.73',\n  '56.67',\n  '253689.92',\n  '175903.68',\n  '77786.24'),\n ('Middle East and North Africa',\n  'Somalia',\n  'Clothes',\n  'Offline',\n  'L',\n  '4/26/2017',\n  '629547774',\n  '5/3/2017',\n  '6031',\n  '109.28',\n  '35.84',\n  '659067.68',\n  '216151.04',\n  '442916.64'),\n ('Europe',\n  'Switzerland',\n  'Meat',\n  'Online',\n  'L',\n  '3/21/2014',\n  '169378983',\n  '4/10/2014',\n  '1860',\n  '421.89',\n  '364.69',\n  '784715.40',\n  '678323.40',\n  '106392.00'),\n ('Middle East and North Africa',\n  'Saudi Arabia',\n  'Personal Care',\n  'Offline',\n  'L',\n  '2/2/2014',\n  '688270556',\n  '3/4/2014',\n  '3407',\n  '81.73',\n  '56.67',\n  '278454.11',\n  '193074.69',\n  '85379.42'),\n ('Asia',\n  'Laos',\n  'Meat',\n  'Online',\n  'L',\n  '3/21/2017',\n  '734708821',\n  '3/24/2017',\n  '5522',\n  '421.89',\n  '364.69',\n  '2329676.58',\n  '2013818.18',\n  '315858.40'),\n ('Asia',\n  'Kyrgyzstan',\n  'Snacks',\n  'Online',\n  'C',\n  '8/6/2013',\n  '727492606',\n  '9/22/2013',\n  '84',\n  '152.58',\n  '97.44',\n  '12816.72',\n  '8184.96',\n  '4631.76'),\n ('Middle East and North Africa',\n  'Algeria',\n  'Baby Food',\n  'Offline',\n  'M',\n  '12/30/2016',\n  '705733239',\n  '1/25/2017',\n  '1003',\n  '255.28',\n  '159.42',\n  '256045.84',\n  '159898.26',\n  '96147.58'),\n ('Sub-Saharan Africa',\n  'Angola',\n  'Office Supplies',\n  'Offline',\n  'C',\n  '10/3/2015',\n  '778854548',\n  '10/3/2015',\n  '9224',\n  '651.21',\n  '524.96',\n  '6006761.04',\n  '4842231.04',\n  '1164530.00'),\n ('Sub-Saharan Africa',\n  'Mauritania',\n  'Cosmetics',\n  'Offline',\n  'M',\n  '5/30/2014',\n  '676592862',\n  '7/9/2014',\n  '7718',\n  '437.20',\n  '263.33',\n  '3374309.60',\n  '2032380.94',\n  '1341928.66'),\n ('Middle East and North Africa',\n  'Lebanon',\n  'Household',\n  'Offline',\n  'M',\n  '10/15/2014',\n  '198997008',\n  '10/16/2014',\n  '6492',\n  '668.27',\n  '502.54',\n  '4338408.84',\n  '3262489.68',\n  '1075919.16'),\n ('Europe',\n  'Finland',\n  'Beverages',\n  'Online',\n  'H',\n  '3/16/2012',\n  '566428315',\n  '3/23/2012',\n  '7581',\n  '47.45',\n  '31.79',\n  '359718.45',\n  '240999.99',\n  '118718.46'),\n ('Asia',\n  'Taiwan',\n  'Baby Food',\n  'Online',\n  'M',\n  '5/27/2014',\n  '369560611',\n  '6/13/2014',\n  '52',\n  '255.28',\n  '159.42',\n  '13274.56',\n  '8289.84',\n  '4984.72'),\n ('Europe',\n  'Belgium',\n  'Snacks',\n  'Online',\n  'M',\n  '1/12/2015',\n  '519380223',\n  '1/17/2015',\n  '5005',\n  '152.58',\n  '97.44',\n  '763662.90',\n  '487687.20',\n  '275975.70'),\n ('Asia',\n  'Laos',\n  'Office Supplies',\n  'Online',\n  'H',\n  '8/10/2012',\n  '197185981',\n  '9/11/2012',\n  '568',\n  '651.21',\n  '524.96',\n  '369887.28',\n  '298177.28',\n  '71710.00'),\n ('Europe',\n  'San Marino',\n  'Office Supplies',\n  'Online',\n  'H',\n  '4/13/2014',\n  '904589211',\n  '5/4/2014',\n  '6905',\n  '651.21',\n  '524.96',\n  '4496605.05',\n  '3624848.80',\n  '871756.25'),\n ('Australia and Oceania',\n  'Tuvalu',\n  'Household',\n  'Offline',\n  'H',\n  '11/23/2016',\n  '613513743',\n  '12/31/2016',\n  '1205',\n  '668.27',\n  '502.54',\n  '805265.35',\n  '605560.70',\n  '199704.65'),\n ('Australia and Oceania',\n  'Kiribati',\n  'Clothes',\n  'Offline',\n  'M',\n  '10/22/2010',\n  '516195905',\n  '10/29/2010',\n  '2694',\n  '109.28',\n  '35.84',\n  '294400.32',\n  '96552.96',\n  '197847.36'),\n ('Asia',\n  'Kyrgyzstan',\n  'Vegetables',\n  'Offline',\n  'H',\n  '12/3/2013',\n  '975184524',\n  '1/17/2014',\n  '7626',\n  '154.06',\n  '90.93',\n  '1174861.56',\n  '693432.18',\n  '481429.38'),\n ('Australia and Oceania',\n  'Samoa ',\n  'Clothes',\n  'Online',\n  'M',\n  '12/8/2014',\n  '173340928',\n  '1/3/2015',\n  '4287',\n  '109.28',\n  '35.84',\n  '468483.36',\n  '153646.08',\n  '314837.28'),\n ('Sub-Saharan Africa',\n  'Central African Republic',\n  'Personal Care',\n  'Offline',\n  'H',\n  '12/16/2014',\n  '863838946',\n  '1/5/2015',\n  '7995',\n  '81.73',\n  '56.67',\n  '653431.35',\n  '453076.65',\n  '200354.70'),\n ('Asia',\n  'Uzbekistan',\n  'Cereal',\n  'Offline',\n  'L',\n  '3/2/2016',\n  '920164906',\n  '3/6/2016',\n  '6099',\n  '205.70',\n  '117.11',\n  '1254564.30',\n  '714253.89',\n  '540310.41'),\n ('Central America and the Caribbean',\n  'Dominica',\n  'Meat',\n  'Online',\n  'M',\n  '6/12/2010',\n  '986117637',\n  '7/30/2010',\n  '2977',\n  '421.89',\n  '364.69',\n  '1255966.53',\n  '1085682.13',\n  '170284.40'),\n ('Middle East and North Africa',\n  'Qatar',\n  'Cereal',\n  'Online',\n  'L',\n  '6/18/2013',\n  '425808465',\n  '7/18/2013',\n  '5042',\n  '205.70',\n  '117.11',\n  '1037139.40',\n  '590468.62',\n  '446670.78'),\n ('Central America and the Caribbean',\n  'Saint Lucia',\n  'Beverages',\n  'Online',\n  'L',\n  '6/12/2015',\n  '473661220',\n  '7/3/2015',\n  '5736',\n  '47.45',\n  '31.79',\n  '272173.20',\n  '182347.44',\n  '89825.76'),\n ('Europe',\n  'Bosnia and Herzegovina',\n  'Baby Food',\n  'Online',\n  'C',\n  '4/4/2015',\n  '184412229',\n  '4/7/2015',\n  '531',\n  '255.28',\n  '159.42',\n  '135553.68',\n  '84652.02',\n  '50901.66'),\n ('Asia',\n  'South Korea',\n  'Vegetables',\n  'Offline',\n  'H',\n  '8/12/2016',\n  '483110320',\n  '9/30/2016',\n  '1934',\n  '154.06',\n  '90.93',\n  '297952.04',\n  '175858.62',\n  '122093.42'),\n ('Central America and the Caribbean',\n  'Trinidad and Tobago',\n  'Household',\n  'Online',\n  'H',\n  '9/22/2016',\n  '115116822',\n  '11/1/2016',\n  '4481',\n  '668.27',\n  '502.54',\n  '2994517.87',\n  '2251881.74',\n  '742636.13'),\n ('Middle East and North Africa',\n  'Somalia',\n  'Baby Food',\n  'Online',\n  'M',\n  '1/29/2010',\n  '596105563',\n  '3/20/2010',\n  '9738',\n  '255.28',\n  '159.42',\n  '2485916.64',\n  '1552431.96',\n  '933484.68'),\n ('Sub-Saharan Africa',\n  'Nigeria',\n  'Snacks',\n  'Online',\n  'C',\n  '12/10/2014',\n  '362062871',\n  '12/23/2014',\n  '1304',\n  '152.58',\n  '97.44',\n  '198964.32',\n  '127061.76',\n  '71902.56'),\n ('Sub-Saharan Africa',\n  'South Africa',\n  'Beverages',\n  'Online',\n  'H',\n  '7/28/2016',\n  '619287574',\n  '8/2/2016',\n  '9810',\n  '47.45',\n  '31.79',\n  '465484.50',\n  '311859.90',\n  '153624.60'),\n ('Central America and the Caribbean',\n  'Saint Vincent and the Grenadines',\n  'Clothes',\n  'Offline',\n  'H',\n  '6/10/2016',\n  '394391000',\n  '6/23/2016',\n  '7916',\n  '109.28',\n  '35.84',\n  '865060.48',\n  '283709.44',\n  '581351.04'),\n ('Sub-Saharan Africa',\n  'Sudan',\n  'Beverages',\n  'Online',\n  'M',\n  '4/16/2013',\n  '584296977',\n  '4/28/2013',\n  '5315',\n  '47.45',\n  '31.79',\n  '252196.75',\n  '168963.85',\n  '83232.90'),\n ('Middle East and North Africa',\n  'Algeria',\n  'Clothes',\n  'Offline',\n  'M',\n  '7/5/2014',\n  '806241834',\n  '8/15/2014',\n  '3730',\n  '109.28',\n  '35.84',\n  '407614.40',\n  '133683.20',\n  '273931.20'),\n ('Europe',\n  'Netherlands',\n  'Meat',\n  'Offline',\n  'M',\n  '3/8/2017',\n  '747774398',\n  '4/3/2017',\n  '1916',\n  '421.89',\n  '364.69',\n  '808341.24',\n  '698746.04',\n  '109595.20'),\n ('Central America and the Caribbean',\n  'Panama',\n  'Meat',\n  'Online',\n  'H',\n  '11/24/2011',\n  '616755998',\n  '12/3/2011',\n  '660',\n  '421.89',\n  '364.69',\n  '278447.40',\n  '240695.40',\n  '37752.00'),\n ('Australia and Oceania',\n  'Solomon Islands',\n  'Baby Food',\n  'Offline',\n  'C',\n  '10/20/2016',\n  '691360461',\n  '11/7/2016',\n  '7779',\n  '255.28',\n  '159.42',\n  '1985823.12',\n  '1240128.18',\n  '745694.94'),\n ('Central America and the Caribbean',\n  'Saint Vincent and the Grenadines',\n  'Beverages',\n  'Online',\n  'C',\n  '4/1/2013',\n  '870074117',\n  '5/16/2013',\n  '3121',\n  '47.45',\n  '31.79',\n  '148091.45',\n  '99216.59',\n  '48874.86'),\n ('Middle East and North Africa',\n  'Iran',\n  'Office Supplies',\n  'Online',\n  'H',\n  '3/1/2010',\n  '221695792',\n  '3/20/2010',\n  '3566',\n  '651.21',\n  '524.96',\n  '2322214.86',\n  '1872007.36',\n  '450207.50'),\n ('Australia and Oceania',\n  'Vanuatu',\n  'Fruits',\n  'Online',\n  'M',\n  '7/13/2017',\n  '135336816',\n  '8/17/2017',\n  '8026',\n  '9.33',\n  '6.92',\n  '74882.58',\n  '55539.92',\n  '19342.66'),\n ('Australia and Oceania',\n  'Federated States of Micronesia',\n  'Office Supplies',\n  'Online',\n  'L',\n  '4/29/2012',\n  '270421016',\n  '5/23/2012',\n  '2443',\n  '651.21',\n  '524.96',\n  '1590906.03',\n  '1282477.28',\n  '308428.75'),\n ('Sub-Saharan Africa',\n  'Equatorial Guinea',\n  'Household',\n  'Online',\n  'H',\n  '6/16/2010',\n  '806684720',\n  '7/18/2010',\n  '4790',\n  '668.27',\n  '502.54',\n  '3201013.30',\n  '2407166.60',\n  '793846.70'),\n ('Europe',\n  'Russia',\n  'Household',\n  'Online',\n  'M',\n  '7/10/2017',\n  '194176757',\n  '8/20/2017',\n  '72',\n  '668.27',\n  '502.54',\n  '48115.44',\n  '36182.88',\n  '11932.56'),\n ('Middle East and North Africa',\n  'Azerbaijan',\n  'Baby Food',\n  'Offline',\n  'H',\n  '6/28/2017',\n  '103258454',\n  '8/15/2017',\n  '5326',\n  '255.28',\n  '159.42',\n  '1359621.28',\n  '849070.92',\n  '510550.36'),\n ('Middle East and North Africa',\n  'Iraq',\n  'Office Supplies',\n  'Online',\n  'H',\n  '4/21/2014',\n  '474603641',\n  '5/30/2014',\n  '4619',\n  '651.21',\n  '524.96',\n  '3007938.99',\n  '2424790.24',\n  '583148.75'),\n ('Sub-Saharan Africa',\n  'Mauritius ',\n  'Cereal',\n  'Online',\n  'H',\n  '12/26/2012',\n  '869198644',\n  '1/5/2013',\n  '4049',\n  '205.70',\n  '117.11',\n  '832879.30',\n  '474178.39',\n  '358700.91'),\n ('Sub-Saharan Africa',\n  'Eritrea',\n  'Household',\n  'Online',\n  'H',\n  '11/1/2015',\n  '918342292',\n  '12/21/2015',\n  '6747',\n  '668.27',\n  '502.54',\n  '4508817.69',\n  '3390637.38',\n  '1118180.31'),\n ('Europe',\n  'Ukraine',\n  'Cosmetics',\n  'Online',\n  'H',\n  '1/22/2011',\n  '773645913',\n  '1/28/2011',\n  '7873',\n  '437.20',\n  '263.33',\n  '3442075.60',\n  '2073197.09',\n  '1368878.51'),\n ('Asia',\n  'Myanmar',\n  'Cosmetics',\n  'Online',\n  'C',\n  '6/13/2014',\n  '657033336',\n  '7/2/2014',\n  '9620',\n  '437.20',\n  '263.33',\n  '4205864.00',\n  '2533234.60',\n  '1672629.40'),\n ('Europe',\n  'Bosnia and Herzegovina',\n  'Meat',\n  'Online',\n  'H',\n  '7/24/2012',\n  '410740888',\n  '9/1/2012',\n  '6211',\n  '421.89',\n  '364.69',\n  '2620358.79',\n  '2265089.59',\n  '355269.20'),\n ('Europe',\n  'Latvia',\n  'Meat',\n  'Offline',\n  'M',\n  '12/15/2011',\n  '847317397',\n  '12/18/2011',\n  '8902',\n  '421.89',\n  '364.69',\n  '3755664.78',\n  '3246470.38',\n  '509194.40'),\n ('Europe',\n  'Serbia',\n  'Beverages',\n  'Online',\n  'L',\n  '9/3/2012',\n  '599624192',\n  '9/21/2012',\n  '978',\n  '47.45',\n  '31.79',\n  '46406.10',\n  '31090.62',\n  '15315.48'),\n ('Asia',\n  'Mongolia',\n  'Beverages',\n  'Offline',\n  'H',\n  '1/19/2012',\n  '170835101',\n  '2/12/2012',\n  '2758',\n  '47.45',\n  '31.79',\n  '130867.10',\n  '87676.82',\n  '43190.28'),\n ('Central America and the Caribbean',\n  'Grenada',\n  'Cereal',\n  'Online',\n  'H',\n  '1/17/2016',\n  '584436452',\n  '2/9/2016',\n  '6588',\n  '205.70',\n  '117.11',\n  '1355151.60',\n  '771520.68',\n  '583630.92'),\n ('Sub-Saharan Africa',\n  'Namibia',\n  'Office Supplies',\n  'Online',\n  'H',\n  '10/2/2012',\n  '234227073',\n  '10/12/2012',\n  '1851',\n  '651.21',\n  '524.96',\n  '1205389.71',\n  '971700.96',\n  '233688.75'),\n ('Europe',\n  'Portugal',\n  'Office Supplies',\n  'Online',\n  'M',\n  '1/21/2014',\n  '734318292',\n  '3/4/2014',\n  '9956',\n  '651.21',\n  '524.96',\n  '6483446.76',\n  '5226501.76',\n  '1256945.00'),\n ('Central America and the Caribbean',\n  'Barbados',\n  'Snacks',\n  'Online',\n  'H',\n  '12/21/2013',\n  '169133937',\n  '12/31/2013',\n  '9345',\n  '152.58',\n  '97.44',\n  '1425860.10',\n  '910576.80',\n  '515283.30'),\n ('Asia',\n  'Sri Lanka',\n  'Cereal',\n  'Online',\n  'C',\n  '2/24/2015',\n  '743410336',\n  '3/20/2015',\n  '494',\n  '205.70',\n  '117.11',\n  '101615.80',\n  '57852.34',\n  '43763.46'),\n ('Europe',\n  'Poland',\n  'Household',\n  'Offline',\n  'L',\n  '7/7/2017',\n  '232196319',\n  '8/4/2017',\n  '905',\n  '668.27',\n  '502.54',\n  '604784.35',\n  '454798.70',\n  '149985.65'),\n ('Sub-Saharan Africa',\n  'Senegal',\n  'Beverages',\n  'Offline',\n  'L',\n  '6/30/2014',\n  '530853211',\n  '8/2/2014',\n  '117',\n  '47.45',\n  '31.79',\n  '5551.65',\n  '3719.43',\n  '1832.22'),\n ('Australia and Oceania',\n  'Kiribati',\n  'Fruits',\n  'Online',\n  'L',\n  '12/7/2011',\n  '905054843',\n  '1/12/2012',\n  '4695',\n  '9.33',\n  '6.92',\n  '43804.35',\n  '32489.40',\n  '11314.95'),\n ('Middle East and North Africa',\n  'Somalia',\n  'Household',\n  'Offline',\n  'C',\n  '9/27/2016',\n  '240787541',\n  '11/13/2016',\n  '3239',\n  '668.27',\n  '502.54',\n  '2164526.53',\n  '1627727.06',\n  '536799.47'),\n ('Sub-Saharan Africa',\n  'Burundi',\n  'Meat',\n  'Online',\n  'L',\n  '5/22/2010',\n  '194350135',\n  '6/5/2010',\n  '1379',\n  '421.89',\n  '364.69',\n  '581786.31',\n  '502907.51',\n  '78878.80'),\n ('Asia',\n  'Malaysia',\n  'Household',\n  'Online',\n  'L',\n  '4/12/2013',\n  '242353951',\n  '4/13/2013',\n  '6775',\n  '668.27',\n  '502.54',\n  '4527529.25',\n  '3404708.50',\n  '1122820.75'),\n ('Central America and the Caribbean',\n  'Haiti',\n  'Vegetables',\n  'Offline',\n  'C',\n  '10/17/2012',\n  '831722819',\n  '10/26/2012',\n  '4120',\n  '154.06',\n  '90.93',\n  '634727.20',\n  '374631.60',\n  '260095.60'),\n ('Europe',\n  'Liechtenstein',\n  'Cosmetics',\n  'Online',\n  'L',\n  '7/15/2012',\n  '229693067',\n  '7/15/2012',\n  '138',\n  '437.20',\n  '263.33',\n  '60333.60',\n  '36339.54',\n  '23994.06'),\n ('Sub-Saharan Africa',\n  'Zambia',\n  'Cereal',\n  'Offline',\n  'H',\n  '5/19/2013',\n  '373813521',\n  '6/15/2013',\n  '8583',\n  '205.70',\n  '117.11',\n  '1765523.10',\n  '1005155.13',\n  '760367.97'),\n ('Europe',\n  'United Kingdom',\n  'Beverages',\n  'Online',\n  'C',\n  '4/8/2017',\n  '121945512',\n  '4/12/2017',\n  '5242',\n  '47.45',\n  '31.79',\n  '248732.90',\n  '166643.18',\n  '82089.72'),\n ('Australia and Oceania',\n  'Vanuatu',\n  'Fruits',\n  'Offline',\n  'L',\n  '11/6/2015',\n  '202262866',\n  '12/14/2015',\n  '2932',\n  '9.33',\n  '6.92',\n  '27355.56',\n  '20289.44',\n  '7066.12'),\n ('Australia and Oceania',\n  'Tuvalu',\n  'Personal Care',\n  'Offline',\n  'M',\n  '12/21/2016',\n  '963251912',\n  '2/1/2017',\n  '6501',\n  '81.73',\n  '56.67',\n  '531326.73',\n  '368411.67',\n  '162915.06'),\n ('Central America and the Caribbean',\n  'Antigua and Barbuda ',\n  'Household',\n  'Online',\n  'M',\n  '8/21/2010',\n  '123711478',\n  '9/13/2010',\n  '7830',\n  '668.27',\n  '502.54',\n  '5232554.10',\n  '3934888.20',\n  '1297665.90'),\n ('Central America and the Caribbean',\n  'Haiti',\n  'Clothes',\n  'Offline',\n  'L',\n  '8/12/2010',\n  '422752892',\n  '8/12/2010',\n  '830',\n  '109.28',\n  '35.84',\n  '90702.40',\n  '29747.20',\n  '60955.20'),\n ('Europe',\n  'Slovenia',\n  'Fruits',\n  'Online',\n  'H',\n  '10/22/2012',\n  '169799983',\n  '11/20/2012',\n  '6443',\n  '9.33',\n  '6.92',\n  '60113.19',\n  '44585.56',\n  '15527.63'),\n ('Europe',\n  'Malta',\n  'Vegetables',\n  'Online',\n  'M',\n  '3/11/2014',\n  '894589078',\n  '4/10/2014',\n  '7643',\n  '154.06',\n  '90.93',\n  '1177480.58',\n  '694977.99',\n  '482502.59'),\n ('Asia',\n  'Bhutan',\n  'Office Supplies',\n  'Offline',\n  'M',\n  '8/3/2016',\n  '597169005',\n  '8/14/2016',\n  '4434',\n  '651.21',\n  '524.96',\n  '2887465.14',\n  '2327672.64',\n  '559792.50'),\n ('Sub-Saharan Africa',\n  'Eritrea',\n  'Office Supplies',\n  'Offline',\n  'H',\n  '4/26/2015',\n  '497901093',\n  '6/11/2015',\n  '8853',\n  '651.21',\n  '524.96',\n  '5765162.13',\n  '4647470.88',\n  '1117691.25'),\n ('Europe',\n  'Ukraine',\n  'Personal Care',\n  'Online',\n  'M',\n  '7/16/2010',\n  '987459170',\n  '8/27/2010',\n  '9967',\n  '81.73',\n  '56.67',\n  '814602.91',\n  '564829.89',\n  '249773.02'),\n ('Asia',\n  'Singapore',\n  'Personal Care',\n  'Offline',\n  'M',\n  '1/22/2011',\n  '276829564',\n  '2/13/2011',\n  '8875',\n  '81.73',\n  '56.67',\n  '725353.75',\n  '502946.25',\n  '222407.50'),\n ('Sub-Saharan Africa',\n  'Cameroon',\n  'Household',\n  'Offline',\n  'H',\n  '5/22/2015',\n  '247311103',\n  '7/11/2015',\n  '3706',\n  '668.27',\n  '502.54',\n  '2476608.62',\n  '1862413.24',\n  '614195.38'),\n ('Europe',\n  'Cyprus',\n  'Fruits',\n  'Offline',\n  'M',\n  '7/12/2015',\n  '600515115',\n  '8/30/2015',\n  '4622',\n  '9.33',\n  '6.92',\n  '43123.26',\n  '31984.24',\n  '11139.02'),\n ('Europe',\n  'Poland',\n  'Office Supplies',\n  'Offline',\n  'M',\n  '11/27/2015',\n  '208365428',\n  '12/29/2015',\n  '8815',\n  '651.21',\n  '524.96',\n  '5740416.15',\n  '4627522.40',\n  '1112893.75'),\n ('Europe',\n  'Monaco',\n  'Personal Care',\n  'Online',\n  'L',\n  '6/8/2014',\n  '263098371',\n  '7/4/2014',\n  '5509',\n  '81.73',\n  '56.67',\n  '450250.57',\n  '312195.03',\n  '138055.54'),\n ('Australia and Oceania',\n  'Vanuatu',\n  'Office Supplies',\n  'Online',\n  'L',\n  '11/21/2013',\n  '227262771',\n  '1/6/2014',\n  '959',\n  '651.21',\n  '524.96',\n  '624510.39',\n  '503436.64',\n  '121073.75'),\n ('Sub-Saharan Africa',\n  'Gabon',\n  'Office Supplies',\n  'Offline',\n  'H',\n  '7/14/2010',\n  '983719956',\n  '8/1/2010',\n  '3450',\n  '651.21',\n  '524.96',\n  '2246674.50',\n  '1811112.00',\n  '435562.50'),\n ('Sub-Saharan Africa',\n  'Djibouti',\n  'Baby Food',\n  'Offline',\n  'H',\n  '1/17/2013',\n  '785643756',\n  '1/26/2013',\n  '8301',\n  '255.28',\n  '159.42',\n  '2119079.28',\n  '1323345.42',\n  '795733.86'),\n ('Sub-Saharan Africa',\n  'Namibia',\n  'Office Supplies',\n  'Online',\n  'C',\n  '1/15/2016',\n  '206520497',\n  '3/5/2016',\n  '2859',\n  '651.21',\n  '524.96',\n  '1861809.39',\n  '1500860.64',\n  '360948.75'),\n ('Europe',\n  'Estonia',\n  'Cosmetics',\n  'Online',\n  'C',\n  '5/23/2011',\n  '790149009',\n  '5/29/2011',\n  '1505',\n  '437.20',\n  '263.33',\n  '657986.00',\n  '396311.65',\n  '261674.35'),\n ('Europe',\n  'Norway',\n  'Cereal',\n  'Online',\n  'M',\n  '10/8/2014',\n  '100640618',\n  '10/18/2014',\n  '650',\n  '205.70',\n  '117.11',\n  '133705.00',\n  '76121.50',\n  '57583.50'),\n ('Sub-Saharan Africa',\n  'Ethiopia',\n  'Personal Care',\n  'Online',\n  'L',\n  '5/27/2016',\n  '272419154',\n  '6/27/2016',\n  '3736',\n  '81.73',\n  '56.67',\n  '305343.28',\n  '211719.12',\n  '93624.16'),\n ('Sub-Saharan Africa',\n  'Burundi',\n  'Meat',\n  'Offline',\n  'M',\n  '2/27/2015',\n  '360220944',\n  '2/27/2015\n\n*** WARNING: max output size exceeded, skipping output. ***\n\n2015',\n  '790243852',\n  '2/10/2015',\n  '9572',\n  '437.20',\n  '263.33',\n  '4184878.40',\n  '2520594.76',\n  '1664283.64'),\n ('Asia',\n  'Malaysia',\n  'Personal Care',\n  'Online',\n  'M',\n  '4/9/2013',\n  '107670581',\n  '5/1/2013',\n  '972',\n  '81.73',\n  '56.67',\n  '79441.56',\n  '55083.24',\n  '24358.32'),\n ('Australia and Oceania',\n  'Nauru',\n  'Household',\n  'Online',\n  'H',\n  '1/24/2013',\n  '443269002',\n  '3/13/2013',\n  '2003',\n  '668.27',\n  '502.54',\n  '1338544.81',\n  '1006587.62',\n  '331957.19'),\n ('Europe',\n  'Andorra',\n  'Baby Food',\n  'Offline',\n  'M',\n  '1/10/2012',\n  '415837943',\n  '2/23/2012',\n  '4543',\n  '255.28',\n  '159.42',\n  '1159737.04',\n  '724245.06',\n  '435491.98'),\n ('Australia and Oceania',\n  'Papua New Guinea',\n  'Beverages',\n  'Offline',\n  'L',\n  '5/8/2016',\n  '964488732',\n  '6/6/2016',\n  '2504',\n  '47.45',\n  '31.79',\n  '118814.80',\n  '79602.16',\n  '39212.64'),\n ('Europe',\n  'Hungary',\n  'Baby Food',\n  'Offline',\n  'H',\n  '5/17/2014',\n  '398645198',\n  '5/26/2014',\n  '6828',\n  '255.28',\n  '159.42',\n  '1743051.84',\n  '1088519.76',\n  '654532.08'),\n ('Sub-Saharan Africa',\n  'Burundi',\n  'Fruits',\n  'Online',\n  'C',\n  '8/23/2010',\n  '248043668',\n  '8/29/2010',\n  '488',\n  '9.33',\n  '6.92',\n  '4553.04',\n  '3376.96',\n  '1176.08'),\n ('North America',\n  'Canada',\n  'Cosmetics',\n  'Online',\n  'C',\n  '7/20/2014',\n  '312732970',\n  '8/17/2014',\n  '3490',\n  '437.20',\n  '263.33',\n  '1525828.00',\n  '919021.70',\n  '606806.30'),\n ('Europe',\n  'Latvia',\n  'Personal Care',\n  'Offline',\n  'H',\n  '11/2/2013',\n  '913074433',\n  '12/17/2013',\n  '7870',\n  '81.73',\n  '56.67',\n  '643215.10',\n  '445992.90',\n  '197222.20'),\n ('Middle East and North Africa',\n  'Iraq',\n  'Household',\n  'Offline',\n  'C',\n  '3/31/2016',\n  '639741885',\n  '4/18/2016',\n  '2695',\n  '668.27',\n  '502.54',\n  '1800987.65',\n  '1354345.30',\n  '446642.35'),\n ('Sub-Saharan Africa',\n  'Angola',\n  'Office Supplies',\n  'Online',\n  'C',\n  '6/9/2015',\n  '403721654',\n  '6/29/2015',\n  '9064',\n  '651.21',\n  '524.96',\n  '5902567.44',\n  '4758237.44',\n  '1144330.00'),\n ('Asia',\n  'Bhutan',\n  'Clothes',\n  'Offline',\n  'H',\n  '6/27/2017',\n  '286312568',\n  '7/9/2017',\n  '5106',\n  '109.28',\n  '35.84',\n  '557983.68',\n  '182999.04',\n  '374984.64'),\n ('Europe',\n  'Andorra',\n  'Fruits',\n  'Offline',\n  'H',\n  '5/27/2014',\n  '889125955',\n  '6/15/2014',\n  '983',\n  '9.33',\n  '6.92',\n  '9171.39',\n  '6802.36',\n  '2369.03'),\n ('Australia and Oceania',\n  'Australia',\n  'Beverages',\n  'Offline',\n  'M',\n  '8/10/2010',\n  '184085643',\n  '8/14/2010',\n  '3887',\n  '47.45',\n  '31.79',\n  '184438.15',\n  '123567.73',\n  '60870.42'),\n ('Europe',\n  'Austria',\n  'Fruits',\n  'Offline',\n  'H',\n  '8/6/2011',\n  '263427960',\n  '9/20/2011',\n  '3042',\n  '9.33',\n  '6.92',\n  '28381.86',\n  '21050.64',\n  '7331.22'),\n ('Asia',\n  'Sri Lanka',\n  'Beverages',\n  'Offline',\n  'H',\n  '7/23/2012',\n  '589701735',\n  '7/26/2012',\n  '4703',\n  '47.45',\n  '31.79',\n  '223157.35',\n  '149508.37',\n  '73648.98'),\n ('Asia',\n  'Bhutan',\n  'Vegetables',\n  'Offline',\n  'C',\n  '5/3/2017',\n  '245768296',\n  '5/12/2017',\n  '7155',\n  '154.06',\n  '90.93',\n  '1102299.30',\n  '650604.15',\n  '451695.15'),\n ('Australia and Oceania',\n  'Vanuatu',\n  'Beverages',\n  'Offline',\n  'L',\n  '11/22/2011',\n  '184801471',\n  '12/20/2011',\n  '5717',\n  '47.45',\n  '31.79',\n  '271271.65',\n  '181743.43',\n  '89528.22'),\n ('Australia and Oceania',\n  'Solomon Islands',\n  'Baby Food',\n  'Online',\n  'M',\n  '7/21/2013',\n  '980287587',\n  '8/30/2013',\n  '7736',\n  '255.28',\n  '159.42',\n  '1974846.08',\n  '1233273.12',\n  '741572.96'),\n ('Middle East and North Africa',\n  'Tunisia ',\n  'Baby Food',\n  'Online',\n  'C',\n  '3/14/2014',\n  '576025474',\n  '3/25/2014',\n  '7593',\n  '255.28',\n  '159.42',\n  '1938341.04',\n  '1210476.06',\n  '727864.98'),\n ('Asia',\n  'Bangladesh',\n  'Snacks',\n  'Online',\n  'H',\n  '5/10/2014',\n  '136126458',\n  '6/2/2014',\n  '1699',\n  '152.58',\n  '97.44',\n  '259233.42',\n  '165550.56',\n  '93682.86'),\n ('Sub-Saharan Africa',\n  'Mali',\n  'Beverages',\n  'Online',\n  'L',\n  '10/26/2011',\n  '895014369',\n  '12/11/2011',\n  '3496',\n  '47.45',\n  '31.79',\n  '165885.20',\n  '111137.84',\n  '54747.36'),\n ('Asia',\n  'Turkmenistan',\n  'Beverages',\n  'Online',\n  'C',\n  '1/10/2013',\n  '107425534',\n  '1/21/2013',\n  '8458',\n  '47.45',\n  '31.79',\n  '401332.10',\n  '268879.82',\n  '132452.28'),\n ('Sub-Saharan Africa',\n  'Niger',\n  'Cosmetics',\n  'Offline',\n  'M',\n  '2/15/2014',\n  '498408782',\n  '3/28/2014',\n  '9089',\n  '437.20',\n  '263.33',\n  '3973710.80',\n  '2393406.37',\n  '1580304.43'),\n ('Sub-Saharan Africa',\n  'Benin',\n  'Cosmetics',\n  'Online',\n  'M',\n  '4/27/2012',\n  '813325440',\n  '5/15/2012',\n  '9927',\n  '437.20',\n  '263.33',\n  '4340084.40',\n  '2614076.91',\n  '1726007.49'),\n ('Sub-Saharan Africa',\n  'The Gambia',\n  'Baby Food',\n  'Offline',\n  'M',\n  '4/1/2017',\n  '767849338',\n  '4/17/2017',\n  '2537',\n  '255.28',\n  '159.42',\n  '647645.36',\n  '404448.54',\n  '243196.82'),\n ('Middle East and North Africa',\n  'Algeria',\n  'Fruits',\n  'Offline',\n  'L',\n  '11/18/2016',\n  '597966802',\n  '12/7/2016',\n  '520',\n  '9.33',\n  '6.92',\n  '4851.60',\n  '3598.40',\n  '1253.20'),\n ('Middle East and North Africa',\n  'United Arab Emirates',\n  'Personal Care',\n  'Online',\n  'C',\n  '8/18/2011',\n  '609976661',\n  '8/20/2011',\n  '4504',\n  '81.73',\n  '56.67',\n  '368111.92',\n  '255241.68',\n  '112870.24'),\n ('Europe',\n  'Liechtenstein',\n  'Meat',\n  'Online',\n  'H',\n  '7/12/2010',\n  '730490243',\n  '7/14/2010',\n  '7151',\n  '421.89',\n  '364.69',\n  '3016935.39',\n  '2607898.19',\n  '409037.20'),\n ('Middle East and North Africa',\n  'Yemen',\n  'Personal Care',\n  'Online',\n  'H',\n  '4/29/2012',\n  '956431376',\n  '6/14/2012',\n  '8153',\n  '81.73',\n  '56.67',\n  '666344.69',\n  '462030.51',\n  '204314.18'),\n ('Europe',\n  'Poland',\n  'Cereal',\n  'Online',\n  'L',\n  '11/1/2016',\n  '905036389',\n  '11/20/2016',\n  '9234',\n  '205.70',\n  '117.11',\n  '1899433.80',\n  '1081393.74',\n  '818040.06'),\n ('Australia and Oceania',\n  'Federated States of Micronesia',\n  'Meat',\n  'Offline',\n  'H',\n  '7/28/2013',\n  '263854110',\n  '7/30/2013',\n  '9149',\n  '421.89',\n  '364.69',\n  '3859871.61',\n  '3336548.81',\n  '523322.80'),\n ('Central America and the Caribbean',\n  'Honduras',\n  'Baby Food',\n  'Online',\n  'C',\n  '11/2/2015',\n  '140745866',\n  '12/6/2015',\n  '8684',\n  '255.28',\n  '159.42',\n  '2216851.52',\n  '1384403.28',\n  '832448.24'),\n ('Sub-Saharan Africa',\n  'Djibouti',\n  'Clothes',\n  'Online',\n  'C',\n  '6/28/2011',\n  '813885486',\n  '8/10/2011',\n  '5656',\n  '109.28',\n  '35.84',\n  '618087.68',\n  '202711.04',\n  '415376.64'),\n ('Europe',\n  'Montenegro',\n  'Clothes',\n  'Online',\n  'C',\n  '3/4/2012',\n  '381759297',\n  '3/25/2012',\n  '9914',\n  '109.28',\n  '35.84',\n  '1083401.92',\n  '355317.76',\n  '728084.16'),\n ('Europe',\n  'Belarus',\n  'Cosmetics',\n  'Offline',\n  'M',\n  '9/2/2011',\n  '613166129',\n  '10/21/2011',\n  '8338',\n  '437.20',\n  '263.33',\n  '3645373.60',\n  '2195645.54',\n  '1449728.06'),\n ('Sub-Saharan Africa',\n  'Democratic Republic of the Congo',\n  'Snacks',\n  'Offline',\n  'H',\n  '5/22/2012',\n  '197217309',\n  '6/11/2012',\n  '9839',\n  '152.58',\n  '97.44',\n  '1501234.62',\n  '958712.16',\n  '542522.46'),\n ('Central America and the Caribbean',\n  'The Bahamas',\n  'Clothes',\n  'Offline',\n  'M',\n  '1/9/2014',\n  '593336665',\n  '1/24/2014',\n  '359',\n  '109.28',\n  '35.84',\n  '39231.52',\n  '12866.56',\n  '26364.96'),\n ('Europe',\n  'Ukraine',\n  'Office Supplies',\n  'Offline',\n  'M',\n  '5/3/2017',\n  '181260526',\n  '6/3/2017',\n  '7872',\n  '651.21',\n  '524.96',\n  '5126325.12',\n  '4132485.12',\n  '993840.00'),\n ('Sub-Saharan Africa',\n  'Chad',\n  'Snacks',\n  'Online',\n  'L',\n  '10/14/2012',\n  '111037719',\n  '12/3/2012',\n  '7383',\n  '152.58',\n  '97.44',\n  '1126498.14',\n  '719399.52',\n  '407098.62'),\n ('Asia',\n  'Tajikistan',\n  'Office Supplies',\n  'Online',\n  'M',\n  '8/16/2014',\n  '253029572',\n  '9/3/2014',\n  '5928',\n  '651.21',\n  '524.96',\n  '3860372.88',\n  '3111962.88',\n  '748410.00'),\n ('Middle East and North Africa',\n  'Algeria',\n  'Clothes',\n  'Offline',\n  'H',\n  '8/27/2011',\n  '547909915',\n  '9/17/2011',\n  '7574',\n  '109.28',\n  '35.84',\n  '827686.72',\n  '271452.16',\n  '556234.56'),\n ('Asia',\n  'Myanmar',\n  'Vegetables',\n  'Online',\n  'M',\n  '6/19/2016',\n  '556665074',\n  '6/26/2016',\n  '8421',\n  '154.06',\n  '90.93',\n  '1297339.26',\n  '765721.53',\n  '531617.73'),\n ('Central America and the Caribbean',\n  'Dominican Republic',\n  'Household',\n  'Offline',\n  'L',\n  '3/19/2016',\n  '810593879',\n  '4/1/2016',\n  '1597',\n  '668.27',\n  '502.54',\n  '1067227.19',\n  '802556.38',\n  '264670.81'),\n ('Middle East and North Africa',\n  'Oman',\n  'Clothes',\n  'Offline',\n  'L',\n  '4/4/2014',\n  '561307656',\n  '5/12/2014',\n  '2264',\n  '109.28',\n  '35.84',\n  '247409.92',\n  '81141.76',\n  '166268.16'),\n ('Australia and Oceania',\n  'Fiji',\n  'Cosmetics',\n  'Offline',\n  'L',\n  '3/27/2011',\n  '930730235',\n  '4/15/2011',\n  '2614',\n  '437.20',\n  '263.33',\n  '1142840.80',\n  '688344.62',\n  '454496.18'),\n ('Central America and the Caribbean',\n  'Barbados',\n  'Clothes',\n  'Online',\n  'L',\n  '6/4/2016',\n  '861097943',\n  '6/12/2016',\n  '6872',\n  '109.28',\n  '35.84',\n  '750972.16',\n  '246292.48',\n  '504679.68'),\n ('Europe',\n  'Georgia',\n  'Snacks',\n  'Online',\n  'C',\n  '9/1/2013',\n  '264959609',\n  '10/18/2013',\n  '6291',\n  '152.58',\n  '97.44',\n  '959880.78',\n  '612995.04',\n  '346885.74'),\n ('Europe',\n  'Malta',\n  'Fruits',\n  'Online',\n  'L',\n  '7/31/2010',\n  '475176560',\n  '9/4/2010',\n  '4159',\n  '9.33',\n  '6.92',\n  '38803.47',\n  '28780.28',\n  '10023.19'),\n ('Europe',\n  'Armenia',\n  'Baby Food',\n  'Offline',\n  'H',\n  '1/23/2012',\n  '194922626',\n  '2/7/2012',\n  '791',\n  '255.28',\n  '159.42',\n  '201926.48',\n  '126101.22',\n  '75825.26'),\n ('Europe',\n  'France',\n  'Snacks',\n  'Offline',\n  'M',\n  '7/3/2016',\n  '447684133',\n  '8/14/2016',\n  '8538',\n  '152.58',\n  '97.44',\n  '1302728.04',\n  '831942.72',\n  '470785.32'),\n ('Europe',\n  'Liechtenstein',\n  'Personal Care',\n  'Online',\n  'H',\n  '1/4/2012',\n  '527259910',\n  '1/11/2012',\n  '6779',\n  '81.73',\n  '56.67',\n  '554047.67',\n  '384165.93',\n  '169881.74'),\n ('Asia',\n  'Uzbekistan',\n  'Beverages',\n  'Online',\n  'M',\n  '6/15/2010',\n  '247761285',\n  '7/3/2010',\n  '6925',\n  '47.45',\n  '31.79',\n  '328591.25',\n  '220145.75',\n  '108445.50'),\n ('Central America and the Caribbean',\n  'Nicaragua',\n  'Meat',\n  'Offline',\n  'C',\n  '6/3/2013',\n  '393612086',\n  '6/21/2013',\n  '7418',\n  '421.89',\n  '364.69',\n  '3129580.02',\n  '2705270.42',\n  '424309.60'),\n ('Sub-Saharan Africa',\n  'Rwanda',\n  'Clothes',\n  'Offline',\n  'M',\n  '12/30/2015',\n  '469548642',\n  '1/13/2016',\n  '8732',\n  '109.28',\n  '35.84',\n  '954232.96',\n  '312954.88',\n  '641278.08'),\n ('Asia',\n  'Vietnam',\n  'Fruits',\n  'Online',\n  'M',\n  '7/13/2010',\n  '950619781',\n  '7/17/2010',\n  '8373',\n  '9.33',\n  '6.92',\n  '78120.09',\n  '57941.16',\n  '20178.93'),\n ('Sub-Saharan Africa',\n  'Guinea',\n  'Cosmetics',\n  'Offline',\n  'M',\n  '3/2/2013',\n  '132186830',\n  '4/16/2013',\n  '5875',\n  '437.20',\n  '263.33',\n  '2568550.00',\n  '1547063.75',\n  '1021486.25'),\n ('Europe',\n  'Hungary',\n  'Baby Food',\n  'Online',\n  'M',\n  '8/10/2014',\n  '879923617',\n  '9/15/2014',\n  '7807',\n  '255.28',\n  '159.42',\n  '1992970.96',\n  '1244591.94',\n  '748379.02'),\n ('Europe',\n  'Portugal',\n  'Snacks',\n  'Offline',\n  'H',\n  '3/9/2014',\n  '279816472',\n  '4/14/2014',\n  '2767',\n  '152.58',\n  '97.44',\n  '422188.86',\n  '269616.48',\n  '152572.38'),\n ('Australia and Oceania',\n  'Solomon Islands',\n  'Beverages',\n  'Offline',\n  'C',\n  '2/4/2016',\n  '888164222',\n  '3/20/2016',\n  '6385',\n  '47.45',\n  '31.79',\n  '302968.25',\n  '202979.15',\n  '99989.10'),\n ('Sub-Saharan Africa',\n  \"Cote d'Ivoire\",\n  'Cosmetics',\n  'Online',\n  'H',\n  '6/11/2010',\n  '381578195',\n  '7/5/2010',\n  '6322',\n  '437.20',\n  '263.33',\n  '2763978.40',\n  '1664772.26',\n  '1099206.14'),\n ('Sub-Saharan Africa',\n  'Uganda',\n  'Household',\n  'Online',\n  'M',\n  '11/27/2014',\n  '106982219',\n  '12/22/2014',\n  '7271',\n  '668.27',\n  '502.54',\n  '4858991.17',\n  '3653968.34',\n  '1205022.83'),\n ('Central America and the Caribbean',\n  'Haiti',\n  'Fruits',\n  'Offline',\n  'H',\n  '5/14/2010',\n  '131612622',\n  '5/25/2010',\n  '5954',\n  '9.33',\n  '6.92',\n  '55550.82',\n  '41201.68',\n  '14349.14'),\n ('Europe',\n  'Cyprus',\n  'Snacks',\n  'Online',\n  'M',\n  '11/5/2012',\n  '593018233',\n  '12/11/2012',\n  '6128',\n  '152.58',\n  '97.44',\n  '935010.24',\n  '597112.32',\n  '337897.92'),\n ('Europe',\n  'Macedonia',\n  'Baby Food',\n  'Online',\n  'H',\n  '9/16/2016',\n  '349060380',\n  '9/28/2016',\n  '3578',\n  '255.28',\n  '159.42',\n  '913391.84',\n  '570404.76',\n  '342987.08'),\n ('Central America and the Caribbean',\n  'Trinidad and Tobago',\n  'Household',\n  'Online',\n  'M',\n  '8/11/2013',\n  '127912890',\n  '9/26/2013',\n  '1122',\n  '668.27',\n  '502.54',\n  '749798.94',\n  '563849.88',\n  '185949.06'),\n ('Sub-Saharan Africa',\n  'Cape Verde',\n  'Cosmetics',\n  'Offline',\n  'C',\n  '5/27/2011',\n  '278062093',\n  '5/28/2011',\n  '3607',\n  '437.20',\n  '263.33',\n  '1576980.40',\n  '949831.31',\n  '627149.09'),\n ('Central America and the Caribbean',\n  'Costa Rica',\n  'Fruits',\n  'Offline',\n  'H',\n  '3/21/2015',\n  '318306815',\n  '4/26/2015',\n  '2915',\n  '9.33',\n  '6.92',\n  '27196.95',\n  '20171.80',\n  '7025.15'),\n ('Middle East and North Africa',\n  'Somalia',\n  'Cereal',\n  'Online',\n  'H',\n  '2/13/2016',\n  '287758386',\n  '3/2/2016',\n  '2956',\n  '205.70',\n  '117.11',\n  '608049.20',\n  '346177.16',\n  '261872.04'),\n ('Asia',\n  'Brunei',\n  'Fruits',\n  'Offline',\n  'L',\n  '1/3/2010',\n  '295840632',\n  '1/6/2010',\n  '4672',\n  '9.33',\n  '6.92',\n  '43589.76',\n  '32330.24',\n  '11259.52'),\n ('Asia',\n  'Taiwan',\n  'Beverages',\n  'Online',\n  'H',\n  '7/30/2016',\n  '972289884',\n  '8/11/2016',\n  '1038',\n  '47.45',\n  '31.79',\n  '49253.10',\n  '32998.02',\n  '16255.08'),\n ('Middle East and North Africa',\n  'Afghanistan',\n  'Vegetables',\n  'Online',\n  'C',\n  '12/6/2014',\n  '317154967',\n  '12/9/2014',\n  '2058',\n  '154.06',\n  '90.93',\n  '317055.48',\n  '187133.94',\n  '129921.54'),\n ('Central America and the Caribbean',\n  'Guatemala',\n  'Meat',\n  'Offline',\n  'H',\n  '7/12/2015',\n  '450797212',\n  '8/30/2015',\n  '9767',\n  '421.89',\n  '364.69',\n  '4120599.63',\n  '3561927.23',\n  '558672.40'),\n ('Europe',\n  'Latvia',\n  'Household',\n  'Offline',\n  'C',\n  '12/18/2010',\n  '863890445',\n  '12/25/2010',\n  '3235',\n  '668.27',\n  '502.54',\n  '2161853.45',\n  '1625716.90',\n  '536136.55'),\n ('Europe',\n  'Armenia',\n  'Personal Care',\n  'Online',\n  'C',\n  '1/16/2010',\n  '667420995',\n  '1/18/2010',\n  '3559',\n  '81.73',\n  '56.67',\n  '290877.07',\n  '201688.53',\n  '89188.54'),\n ('Europe',\n  'Montenegro',\n  'Vegetables',\n  'Offline',\n  'H',\n  '4/10/2011',\n  '842687690',\n  '5/26/2011',\n  '8869',\n  '154.06',\n  '90.93',\n  '1366358.14',\n  '806458.17',\n  '559899.97'),\n ('Australia and Oceania',\n  'East Timor',\n  'Personal Care',\n  'Offline',\n  'H',\n  '3/25/2014',\n  '191301858',\n  '4/6/2014',\n  '9326',\n  '81.73',\n  '56.67',\n  '762213.98',\n  '528504.42',\n  '233709.56'),\n ('Middle East and North Africa',\n  'Lebanon',\n  'Cereal',\n  'Online',\n  'L',\n  '10/8/2015',\n  '285187327',\n  '10/22/2015',\n  '2123',\n  '205.70',\n  '117.11',\n  '436701.10',\n  '248624.53',\n  '188076.57'),\n ('Central America and the Caribbean',\n  'Grenada',\n  'Meat',\n  'Offline',\n  'M',\n  '10/20/2013',\n  '516580426',\n  '11/18/2013',\n  '6483',\n  '421.89',\n  '364.69',\n  '2735112.87',\n  '2364285.27',\n  '370827.60'),\n ('Sub-Saharan Africa',\n  'Seychelles ',\n  'Meat',\n  'Offline',\n  'L',\n  '2/9/2011',\n  '348029983',\n  '3/2/2011',\n  '8661',\n  '421.89',\n  '364.69',\n  '3653989.29',\n  '3158580.09',\n  '495409.20'),\n ('Central America and the Caribbean',\n  'Grenada',\n  'Office Supplies',\n  'Offline',\n  'L',\n  '7/7/2011',\n  '662397325',\n  '7/23/2011',\n  '6943',\n  '651.21',\n  '524.96',\n  '4521351.03',\n  '3644797.28',\n  '876553.75'),\n ('Sub-Saharan Africa',\n  'Nigeria',\n  'Snacks',\n  'Offline',\n  'L',\n  '2/19/2016',\n  '612856280',\n  '3/24/2016',\n  '6647',\n  '152.58',\n  '97.44',\n  '1014199.26',\n  '647683.68',\n  '366515.58'),\n ('Europe',\n  'San Marino',\n  'Beverages',\n  'Offline',\n  'L',\n  '1/2/2012',\n  '772893178',\n  '1/2/2012',\n  '5122',\n  '47.45',\n  '31.79',\n  '243038.90',\n  '162828.38',\n  '80210.52'),\n ('Sub-Saharan Africa',\n  'Mauritius ',\n  'Baby Food',\n  'Online',\n  'H',\n  '9/21/2013',\n  '886306846',\n  '10/27/2013',\n  '6746',\n  '255.28',\n  '159.42',\n  '1722118.88',\n  '1075447.32',\n  '646671.56'),\n ('Asia',\n  'Indonesia',\n  'Vegetables',\n  'Online',\n  'C',\n  '3/29/2014',\n  '317208611',\n  '4/17/2014',\n  '7932',\n  '154.06',\n  '90.93',\n  '1222003.92',\n  '721256.76',\n  '500747.16'),\n ('Sub-Saharan Africa',\n  'Republic of the Congo',\n  'Baby Food',\n  'Offline',\n  'L',\n  '5/11/2011',\n  '300022304',\n  '6/2/2011',\n  '2122',\n  '255.28',\n  '159.42',\n  '541704.16',\n  '338289.24',\n  '203414.92'),\n ('Europe',\n  'Czech Republic',\n  'Snacks',\n  'Online',\n  'M',\n  '7/5/2011',\n  '789484250',\n  '7/30/2011',\n  '4789',\n  '152.58',\n  '97.44',\n  '730705.62',\n  '466640.16',\n  '264065.46'),\n ('Sub-Saharan Africa',\n  'Republic of the Congo',\n  'Cereal',\n  'Offline',\n  'M',\n  '11/3/2010',\n  '910643279',\n  '12/22/2010',\n  '8438',\n  '205.70',\n  '117.11',\n  '1735696.60',\n  '988174.18',\n  '747522.42'),\n ('Central America and the Caribbean',\n  'Saint Kitts and Nevis ',\n  'Meat',\n  'Offline',\n  'L',\n  '2/17/2014',\n  '308860719',\n  '3/18/2014',\n  '7605',\n  '421.89',\n  '364.69',\n  '3208473.45',\n  '2773467.45',\n  '435006.00'),\n ('Middle East and North Africa',\n  'Somalia',\n  'Snacks',\n  'Online',\n  'M',\n  '11/14/2015',\n  '499810397',\n  '12/21/2015',\n  '3858',\n  '152.58',\n  '97.44',\n  '588653.64',\n  '375923.52',\n  '212730.12'),\n ('North America',\n  'Greenland',\n  'Clothes',\n  'Online',\n  'C',\n  '8/10/2011',\n  '819478642',\n  '8/18/2011',\n  '796',\n  '109.28',\n  '35.84',\n  '86986.88',\n  '28528.64',\n  '58458.24'),\n ('Australia and Oceania',\n  'Palau',\n  'Baby Food',\n  'Offline',\n  'L',\n  '11/22/2016',\n  '674164283',\n  '12/10/2016',\n  '9048',\n  '255.28',\n  '159.42',\n  '2309773.44',\n  '1442432.16',\n  '867341.28'),\n ('Sub-Saharan Africa',\n  'Mauritius ',\n  'Cereal',\n  'Offline',\n  'L',\n  '6/22/2010',\n  '890478646',\n  '6/24/2010',\n  '1275',\n  '205.70',\n  '117.11',\n  '262267.50',\n  '149315.25',\n  '112952.25'),\n ('Sub-Saharan Africa',\n  'Mauritania',\n  'Meat',\n  'Online',\n  'M',\n  '10/26/2013',\n  '565345561',\n  '12/2/2013',\n  '7170',\n  '421.89',\n  '364.69',\n  '3024951.30',\n  '2614827.30',\n  '410124.00'),\n ('North America',\n  'Canada',\n  'Household',\n  'Online',\n  'H',\n  '8/4/2011',\n  '216001355',\n  '8/15/2011',\n  '8456',\n  '668.27',\n  '502.54',\n  '5650891.12',\n  '4249478.24',\n  '1401412.88'),\n ('Australia and Oceania',\n  'Palau',\n  'Beverages',\n  'Online',\n  'M',\n  '1/10/2016',\n  '429994857',\n  '1/11/2016',\n  '3888',\n  '47.45',\n  '31.79',\n  '184485.60',\n  '123599.52',\n  '60886.08'),\n ('Australia and Oceania',\n  'Solomon Islands',\n  'Office Supplies',\n  'Online',\n  'C',\n  '2/17/2010',\n  '515187394',\n  '4/6/2010',\n  '4253',\n  '651.21',\n  '524.96',\n  '2769596.13',\n  '2232654.88',\n  '536941.25'),\n ('Sub-Saharan Africa',\n  'Nigeria',\n  'Office Supplies',\n  'Online',\n  'L',\n  '1/24/2012',\n  '749752795',\n  '2/23/2012',\n  '7368',\n  '651.21',\n  '524.96',\n  '4798115.28',\n  '3867905.28',\n  '930210.00'),\n ('Sub-Saharan Africa',\n  'Comoros',\n  'Beverages',\n  'Offline',\n  'M',\n  '9/29/2010',\n  '132177388',\n  '11/7/2010',\n  '3081',\n  '47.45',\n  '31.79',\n  '146193.45',\n  '97944.99',\n  '48248.46'),\n ('Asia',\n  'Thailand',\n  'Baby Food',\n  'Online',\n  'L',\n  '2/6/2015',\n  '431260001',\n  '2/11/2015',\n  '8273',\n  '255.28',\n  '159.42',\n  '2111931.44',\n  '1318881.66',\n  '793049.78'),\n ('Europe',\n  'Vatican City',\n  'Personal Care',\n  'Offline',\n  'M',\n  '5/24/2012',\n  '336111962',\n  '6/16/2012',\n  '1854',\n  '81.73',\n  '56.67',\n  '151527.42',\n  '105066.18',\n  '46461.24'),\n ('Sub-Saharan Africa',\n  'Equatorial Guinea',\n  'Personal Care',\n  'Online',\n  'M',\n  '6/20/2017',\n  '406157100',\n  '7/13/2017',\n  '9766',\n  '81.73',\n  '56.67',\n  '798175.18',\n  '553439.22',\n  '244735.96'),\n ('Europe',\n  'San Marino',\n  'Household',\n  'Offline',\n  'H',\n  '12/9/2015',\n  '821131742',\n  '12/9/2015',\n  '9985',\n  '668.27',\n  '502.54',\n  '6672675.95',\n  '5017861.90',\n  '1654814.05'),\n ('Sub-Saharan Africa',\n  'Sao Tome and Principe',\n  'Personal Care',\n  'Online',\n  'M',\n  '5/28/2013',\n  '931084716',\n  '7/7/2013',\n  '7513',\n  '81.73',\n  '56.67',\n  '614037.49',\n  '425761.71',\n  '188275.78'),\n ('Sub-Saharan Africa',\n  'Seychelles ',\n  'Baby Food',\n  'Offline',\n  'H',\n  '7/20/2016',\n  '606377351',\n  '8/25/2016',\n  '9388',\n  '255.28',\n  '159.42',\n  '2396568.64',\n  '1496634.96',\n  '899933.68'),\n ('Sub-Saharan Africa',\n  'Togo',\n  'Vegetables',\n  'Online',\n  'L',\n  '3/7/2014',\n  '687683475',\n  '4/1/2014',\n  '9677',\n  '154.06',\n  '90.93',\n  '1490838.62',\n  '879929.61',\n  '610909.01'),\n ('Middle East and North Africa',\n  'Somalia',\n  'Cosmetics',\n  'Offline',\n  'C',\n  '4/23/2011',\n  '735989415',\n  '4/27/2011',\n  '4478',\n  '437.20',\n  '263.33',\n  '1957781.60',\n  '1179191.74',\n  '778589.86'),\n ('Central America and the Caribbean',\n  'Antigua and Barbuda ',\n  'Snacks',\n  'Offline',\n  'M',\n  '3/27/2010',\n  '382594001',\n  '4/7/2010',\n  '6922',\n  '152.58',\n  '97.44',\n  '1056158.76',\n  '674479.68',\n  '381679.08'),\n ('Europe',\n  'Liechtenstein',\n  'Household',\n  'Online',\n  'M',\n  '4/27/2014',\n  '679108560',\n  '6/11/2014',\n  '2169',\n  '668.27',\n  '502.54',\n  '1449477.63',\n  '1090009.26',\n  '359468.37'),\n ('Sub-Saharan Africa',\n  'Equatorial Guinea',\n  'Beverages',\n  'Online',\n  'M',\n  '8/18/2016',\n  '947456920',\n  '9/30/2016',\n  '2412',\n  '47.45',\n  '31.79',\n  '114449.40',\n  '76677.48',\n  '37771.92'),\n ('Europe',\n  'Lithuania',\n  'Personal Care',\n  'Offline',\n  'L',\n  '4/19/2011',\n  '129875409',\n  '4/26/2011',\n  '1875',\n  '81.73',\n  '56.67',\n  '153243.75',\n  '106256.25',\n  '46987.50'),\n ('Central America and the Caribbean',\n  'Panama',\n  'Baby Food',\n  'Offline',\n  'H',\n  '6/14/2012',\n  '838912856',\n  '7/11/2012',\n  '1811',\n  '255.28',\n  '159.42',\n  '462312.08',\n  '288709.62',\n  '173602.46'),\n ('North America',\n  'United States of America',\n  'Beverages',\n  'Offline',\n  'C',\n  '7/25/2012',\n  '807430589',\n  '7/30/2012',\n  '5509',\n  '47.45',\n  '31.79',\n  '261402.05',\n  '175131.11',\n  '86270.94'),\n ('Sub-Saharan Africa',\n  'Angola',\n  'Office Supplies',\n  'Online',\n  'L',\n  '7/16/2016',\n  '538602435',\n  '8/19/2016',\n  '3284',\n  '651.21',\n  '524.96',\n  '2138573.64',\n  '1723968.64',\n  '414605.00'),\n ('Europe',\n  'Ireland',\n  'Fruits',\n  'Offline',\n  'H',\n  '3/12/2015',\n  '155914723',\n  '3/29/2015',\n  '7486',\n  '9.33',\n  '6.92',\n  '69844.38',\n  '51803.12',\n  '18041.26'),\n ('Europe',\n  'Spain',\n  'Fruits',\n  'Online',\n  'H',\n  '10/9/2011',\n  '753166282',\n  '11/25/2011',\n  '7495',\n  '9.33',\n  '6.92',\n  '69928.35',\n  '51865.40',\n  '18062.95'),\n ('Sub-Saharan Africa',\n  'Chad',\n  'Baby Food',\n  'Online',\n  'C',\n  '7/30/2010',\n  '344468438',\n  '8/27/2010',\n  '4721',\n  '255.28',\n  '159.42',\n  '1205176.88',\n  '752621.82',\n  '452555.06'),\n ('Asia',\n  'Malaysia',\n  'Cosmetics',\n  'Offline',\n  'L',\n  '3/13/2013',\n  '614245021',\n  '3/20/2013',\n  '7606',\n  '437.20',\n  '263.33',\n  '3325343.20',\n  '2002887.98',\n  '1322455.22'),\n ('Central America and the Caribbean',\n  'Belize',\n  'Fruits',\n  'Online',\n  'L',\n  '9/18/2014',\n  '167232358',\n  '10/30/2014',\n  '6626',\n  '9.33',\n  '6.92',\n  '61820.58',\n  '45851.92',\n  '15968.66'),\n ('Central America and the Caribbean',\n  'Antigua and Barbuda ',\n  'Snacks',\n  'Online',\n  'C',\n  '1/20/2015',\n  '378479278',\n  '2/15/2015',\n  '9284',\n  '152.58',\n  '97.44',\n  '1416552.72',\n  '904632.96',\n  '511919.76'),\n ('Europe',\n  'Andorra',\n  'Cereal',\n  'Offline',\n  'M',\n  '3/20/2015',\n  '443347108',\n  '4/9/2015',\n  '5116',\n  '205.70',\n  '117.11',\n  '1052361.20',\n  '599134.76',\n  '453226.44'),\n ('Europe',\n  'Iceland',\n  'Office Supplies',\n  'Online',\n  'C',\n  '6/19/2013',\n  '527509677',\n  '7/10/2013',\n  '691',\n  '651.21',\n  '524.96',\n  '449986.11',\n  '362747.36',\n  '87238.75'),\n ('Europe',\n  'Ireland',\n  'Beverages',\n  'Offline',\n  'H',\n  '9/20/2016',\n  '416953313',\n  '10/29/2016',\n  '4606',\n  '47.45',\n  '31.79',\n  '218554.70',\n  '146424.74',\n  '72129.96'),\n ('Middle East and North Africa',\n  'Libya',\n  'Beverages',\n  'Online',\n  'M',\n  '1/8/2014',\n  '867976844',\n  '2/1/2014',\n  '2491',\n  '47.45',\n  '31.79',\n  '118197.95',\n  '79188.89',\n  '39009.06'),\n ('Sub-Saharan Africa',\n  'Burkina Faso',\n  'Vegetables',\n  'Offline',\n  'M',\n  '8/16/2010',\n  '457191598',\n  '9/23/2010',\n  '2008',\n  '154.06',\n  '90.93',\n  '309352.48',\n  '182587.44',\n  '126765.04'),\n ('Australia and Oceania',\n  'Solomon Islands',\n  'Fruits',\n  'Offline',\n  'H',\n  '8/19/2016',\n  '531521403',\n  '9/19/2016',\n  '7850',\n  '9.33',\n  '6.92',\n  '73240.50',\n  '54322.00',\n  '18918.50'),\n ('Middle East and North Africa',\n  'Oman',\n  'Office Supplies',\n  'Online',\n  'L',\n  '12/6/2012',\n  '258202588',\n  '12/23/2012',\n  '6738',\n  '651.21',\n  '524.96',\n  '4387852.98',\n  '3537180.48',\n  '850672.50'),\n ('Sub-Saharan Africa',\n  'Sierra Leone',\n  'Snacks',\n  'Online',\n  'M',\n  '7/15/2015',\n  '674783980',\n  '9/2/2015',\n  '2430',\n  '152.58',\n  '97.44',\n  '370769.40',\n  '236779.20',\n  '133990.20'),\n ...]"
     ]
    }
   ],
   "source": [
    "map_rdd.collect()"
   ]
  },
  {
   "cell_type": "code",
   "execution_count": 0,
   "metadata": {
    "application/vnd.databricks.v1+cell": {
     "cellMetadata": {
      "byteLimit": 2048000,
      "rowLimit": 10000
     },
     "inputWidgets": {},
     "nuid": "aac6bbf7-16b0-4de2-9ad1-20cb6533069c",
     "showTitle": false,
     "title": ""
    }
   },
   "outputs": [],
   "source": [
    "units_sold_by_region =map_rdd.map(lambda x: (x[0], int(x[8]))).reduceByKey(lambda a,b:a+b)\n"
   ]
  },
  {
   "cell_type": "code",
   "execution_count": 0,
   "metadata": {
    "application/vnd.databricks.v1+cell": {
     "cellMetadata": {
      "byteLimit": 2048000,
      "rowLimit": 10000
     },
     "inputWidgets": {},
     "nuid": "4f51011e-231a-486b-a4af-4f8bb7731fc5",
     "showTitle": false,
     "title": ""
    }
   },
   "outputs": [
    {
     "output_type": "stream",
     "name": "stdout",
     "output_type": "stream",
     "text": [
      "Out[12]: [('Asia', 3620036),\n ('Middle East and North Africa', 3013431),\n ('Australia and Oceania', 2111786),\n ('Central America and the Caribbean', 2698776),\n ('Europe', 6582322),\n ('Sub-Saharan Africa', 6642380),\n ('North America', 484760)]"
     ]
    }
   ],
   "source": [
    "units_sold_by_region.collect()"
   ]
  },
  {
   "cell_type": "code",
   "execution_count": 0,
   "metadata": {
    "application/vnd.databricks.v1+cell": {
     "cellMetadata": {
      "byteLimit": 2048000,
      "rowLimit": 10000
     },
     "inputWidgets": {},
     "nuid": "a302310b-292d-4b9a-baba-3cdaa3ebd5bf",
     "showTitle": false,
     "title": ""
    }
   },
   "outputs": [
    {
     "output_type": "stream",
     "name": "stdout",
     "output_type": "stream",
     "text": [
      "Units sold by region:\nAsia: 3620036\nMiddle East and North Africa: 3013431\nAustralia and Oceania: 2111786\nCentral America and the Caribbean: 2698776\nEurope: 6582322\nSub-Saharan Africa: 6642380\nNorth America: 484760\n"
     ]
    }
   ],
   "source": [
    "print(\"Units sold by region:\")\n",
    "for region, units_sold in units_sold_by_region.collect():\n",
    "    print(f\"{region}: {units_sold}\")"
   ]
  },
  {
   "cell_type": "markdown",
   "metadata": {
    "application/vnd.databricks.v1+cell": {
     "cellMetadata": {},
     "inputWidgets": {},
     "nuid": "e4b9c995-b742-4993-9361-c19dbfe6cad8",
     "showTitle": false,
     "title": ""
    }
   },
   "source": [
    "Display the 10 most recent sales."
   ]
  },
  {
   "cell_type": "code",
   "execution_count": 0,
   "metadata": {
    "application/vnd.databricks.v1+cell": {
     "cellMetadata": {
      "byteLimit": 2048000,
      "rowLimit": 10000
     },
     "inputWidgets": {},
     "nuid": "f696874e-2442-42e8-b0ad-37362cefc386",
     "showTitle": false,
     "title": ""
    }
   },
   "outputs": [],
   "source": [
    "def date_format(date):\n",
    "    split_date = date.split('/') \n",
    "    if len(split_date[0]) == 1:\n",
    "        split_date[0] = '0'+split_date[0]\n",
    "    if len(split_date[1]) == 1:\n",
    "        split_date[1] = '0'+split_date[1] \n",
    "    date = split_date[2]+split_date[0]+split_date[1] \n",
    "    return date"
   ]
  },
  {
   "cell_type": "code",
   "execution_count": 0,
   "metadata": {
    "application/vnd.databricks.v1+cell": {
     "cellMetadata": {
      "byteLimit": 2048000,
      "rowLimit": 10000
     },
     "inputWidgets": {},
     "nuid": "d3fe2851-55c2-4025-bc23-500eb75dd8d1",
     "showTitle": false,
     "title": ""
    }
   },
   "outputs": [],
   "source": [
    "date_rdd = map_rdd.map(lambda x:(x,date_format(x[5]))) \n",
    "top_ten_rdd = date_rdd.sortBy(lambda x:x[1],ascending=False) \n",
    "top_ten = top_ten_rdd.take(10)"
   ]
  },
  {
   "cell_type": "code",
   "execution_count": 0,
   "metadata": {
    "application/vnd.databricks.v1+cell": {
     "cellMetadata": {
      "byteLimit": 2048000,
      "rowLimit": 10000
     },
     "inputWidgets": {},
     "nuid": "a3c93943-7f11-4e35-b0d6-4dc88e433f6e",
     "showTitle": false,
     "title": ""
    }
   },
   "outputs": [
    {
     "output_type": "stream",
     "name": "stdout",
     "output_type": "stream",
     "text": [
      "Out[19]: [(('Asia',\n   'Bhutan',\n   'Cereal',\n   'Offline',\n   'M',\n   '7/28/2017',\n   '223854434',\n   '8/25/2017',\n   '2356',\n   '205.70',\n   '117.11',\n   '484629.20',\n   '275911.16',\n   '208718.04'),\n  '20170728'),\n (('Sub-Saharan Africa',\n   'Senegal',\n   'Cosmetics',\n   'Online',\n   'C',\n   '7/26/2017',\n   '537970721',\n   '8/18/2017',\n   '6346',\n   '437.20',\n   '263.33',\n   '2774471.20',\n   '1671092.18',\n   '1103379.02'),\n  '20170726'),\n (('Middle East and North Africa',\n   'United Arab Emirates',\n   'Household',\n   'Online',\n   'C',\n   '7/26/2017',\n   '419542396',\n   '8/8/2017',\n   '773',\n   '668.27',\n   '502.54',\n   '516572.71',\n   '388463.42',\n   '128109.29'),\n  '20170726'),\n (('Australia and Oceania',\n   'Australia',\n   'Beverages',\n   'Online',\n   'L',\n   '7/26/2017',\n   '631485402',\n   '8/12/2017',\n   '9418',\n   '47.45',\n   '31.79',\n   '446884.10',\n   '299398.22',\n   '147485.88'),\n  '20170726'),\n (('Sub-Saharan Africa',\n   \"Cote d'Ivoire\",\n   'Vegetables',\n   'Online',\n   'H',\n   '7/24/2017',\n   '588388097',\n   '8/25/2017',\n   '5968',\n   '154.06',\n   '90.93',\n   '919430.08',\n   '542670.24',\n   '376759.84'),\n  '20170724'),\n (('Sub-Saharan Africa',\n   'Chad',\n   'Household',\n   'Online',\n   'L',\n   '7/24/2017',\n   '586341464',\n   '7/31/2017',\n   '324',\n   '668.27',\n   '502.54',\n   '216519.48',\n   '162822.96',\n   '53696.52'),\n  '20170724'),\n (('Australia and Oceania',\n   'Vanuatu',\n   'Office Supplies',\n   'Online',\n   'C',\n   '7/24/2017',\n   '480310952',\n   '8/11/2017',\n   '3539',\n   '651.21',\n   '524.96',\n   '2304632.19',\n   '1857833.44',\n   '446798.75'),\n  '20170724'),\n (('Europe',\n   'Kosovo',\n   'Vegetables',\n   'Offline',\n   'C',\n   '7/23/2017',\n   '975080668',\n   '8/20/2017',\n   '6893',\n   '154.06',\n   '90.93',\n   '1061935.58',\n   '626780.49',\n   '435155.09'),\n  '20170723'),\n (('Europe',\n   'San Marino',\n   'Snacks',\n   'Offline',\n   'C',\n   '7/22/2017',\n   '476453721',\n   '8/10/2017',\n   '2099',\n   '152.58',\n   '97.44',\n   '320265.42',\n   '204526.56',\n   '115738.86'),\n  '20170722'),\n (('Australia and Oceania',\n   'Palau',\n   'Baby Food',\n   'Offline',\n   'H',\n   '7/21/2017',\n   '956778991',\n   '8/25/2017',\n   '1020',\n   '255.28',\n   '159.42',\n   '260385.60',\n   '162608.40',\n   '97777.20'),\n  '20170721')]"
     ]
    }
   ],
   "source": [
    "top_ten"
   ]
  },
  {
   "cell_type": "code",
   "execution_count": 0,
   "metadata": {
    "application/vnd.databricks.v1+cell": {
     "cellMetadata": {
      "byteLimit": 2048000,
      "rowLimit": 10000
     },
     "inputWidgets": {},
     "nuid": "42c73e15-5d93-4a59-936d-5602dc300c11",
     "showTitle": false,
     "title": ""
    }
   },
   "outputs": [],
   "source": [
    "top_sales_rdd = sc.parallelize(top_ten,1)"
   ]
  },
  {
   "cell_type": "markdown",
   "metadata": {
    "application/vnd.databricks.v1+cell": {
     "cellMetadata": {},
     "inputWidgets": {},
     "nuid": "0b90d412-b964-40d3-b130-543e267a606d",
     "showTitle": false,
     "title": ""
    }
   },
   "source": [
    "Display the products with atleast 2 occurences of 'a' (Using spark)"
   ]
  },
  {
   "cell_type": "code",
   "execution_count": 0,
   "metadata": {
    "application/vnd.databricks.v1+cell": {
     "cellMetadata": {
      "byteLimit": 2048000,
      "rowLimit": 10000
     },
     "inputWidgets": {},
     "nuid": "a1ff97aa-3d47-43f9-a931-b561f15a9263",
     "showTitle": false,
     "title": ""
    }
   },
   "outputs": [
    {
     "output_type": "stream",
     "name": "stdout",
     "output_type": "stream",
     "text": [
      "Out[21]: ['Personal Care']"
     ]
    }
   ],
   "source": [
    "map_rdd.map(lambda x: x[2]).filter(lambda x: x.count('a')>=2).distinct().collect()"
   ]
  },
  {
   "cell_type": "markdown",
   "metadata": {
    "application/vnd.databricks.v1+cell": {
     "cellMetadata": {},
     "inputWidgets": {},
     "nuid": "306f6847-b215-499f-8175-3660e0ab209e",
     "showTitle": false,
     "title": ""
    }
   },
   "source": [
    "Display country in each region with highest units sold. (Using spark)"
   ]
  },
  {
   "cell_type": "code",
   "execution_count": 0,
   "metadata": {
    "application/vnd.databricks.v1+cell": {
     "cellMetadata": {
      "byteLimit": 2048000,
      "rowLimit": 10000
     },
     "inputWidgets": {},
     "nuid": "93bfba20-f213-4947-9e33-6c20fd2668ba",
     "showTitle": false,
     "title": ""
    }
   },
   "outputs": [],
   "source": [
    "country_units_rdd = map_rdd.map(lambda x:((x[0],x[1]),x[8]))\n",
    "country_sum_units = country_units_rdd.reduceByKey(lambda a,b:a+b) \n",
    "country_units_sorted = country_sum_units.sortBy(lambda x:x[1],ascending = False) \n",
    "highest_units = country_units_sorted.map(lambda x:(x[0][0],(x[0][1],x[1]))).reduceByKey(lambda a,b:max(a,b,key = lambda x:x[1])).sortBy(lambda x:x[1][1],ascending=False)"
   ]
  },
  {
   "cell_type": "markdown",
   "metadata": {
    "application/vnd.databricks.v1+cell": {
     "cellMetadata": {},
     "inputWidgets": {},
     "nuid": "cb548acb-c0cd-4a62-bc16-d8453cb0c965",
     "showTitle": false,
     "title": ""
    }
   },
   "source": [
    "Display the unit price and unit cost of each item in ascending order. (Using spark)"
   ]
  },
  {
   "cell_type": "code",
   "execution_count": 0,
   "metadata": {
    "application/vnd.databricks.v1+cell": {
     "cellMetadata": {
      "byteLimit": 2048000,
      "rowLimit": 10000
     },
     "inputWidgets": {},
     "nuid": "9505cd5e-b08a-4394-9fa4-3b461da59070",
     "showTitle": false,
     "title": ""
    }
   },
   "outputs": [],
   "source": [
    "data_rdd = map_rdd.map(lambda x:(x[2],float(x[9]),float(x[10]))) \n",
    "product_price_cost = data_rdd.distinct().sortBy(lambda x:(x[1],x[2]))"
   ]
  },
  {
   "cell_type": "markdown",
   "metadata": {
    "application/vnd.databricks.v1+cell": {
     "cellMetadata": {},
     "inputWidgets": {},
     "nuid": "779e5033-3387-4359-886f-6fbd7ef071f8",
     "showTitle": false,
     "title": ""
    }
   },
   "source": [
    "7.Display the number of sales yearwise. (Using pyspark)"
   ]
  },
  {
   "cell_type": "code",
   "execution_count": 0,
   "metadata": {
    "application/vnd.databricks.v1+cell": {
     "cellMetadata": {
      "byteLimit": 2048000,
      "rowLimit": 10000
     },
     "inputWidgets": {},
     "nuid": "3e5d6624-7315-4c0f-8b58-a1d25dabfbdd",
     "showTitle": false,
     "title": ""
    }
   },
   "outputs": [],
   "source": [
    "year_units_rdd = map_rdd.map(lambda x:(x[5][-4:],int(x[8]))) \n",
    "year_wise_sales = year_units_rdd.reduceByKey(lambda a,b:a+b).sortBy(lambda x:x[0])"
   ]
  },
  {
   "cell_type": "markdown",
   "metadata": {
    "application/vnd.databricks.v1+cell": {
     "cellMetadata": {},
     "inputWidgets": {},
     "nuid": "36c6430b-17ff-4e44-b646-c25b0d026fbd",
     "showTitle": false,
     "title": ""
    }
   },
   "source": [
    "Display the number of orders for each item. (Using pyspark)"
   ]
  },
  {
   "cell_type": "code",
   "execution_count": 0,
   "metadata": {
    "application/vnd.databricks.v1+cell": {
     "cellMetadata": {
      "byteLimit": 2048000,
      "rowLimit": 10000
     },
     "inputWidgets": {},
     "nuid": "35593886-552d-4f71-8a83-f655970d2108",
     "showTitle": false,
     "title": ""
    }
   },
   "outputs": [],
   "source": [
    "item_orders = map_rdd.map(lambda x:(x[2],1)).reduceByKey(lambda a,b:a+b)"
   ]
  },
  {
   "cell_type": "code",
   "execution_count": 0,
   "metadata": {
    "application/vnd.databricks.v1+cell": {
     "cellMetadata": {},
     "inputWidgets": {},
     "nuid": "34da2985-2a57-4f60-91ed-97bf1ed5bb90",
     "showTitle": false,
     "title": ""
    }
   },
   "outputs": [],
   "source": []
  }
 ],
 "metadata": {
  "application/vnd.databricks.v1+notebook": {
   "dashboards": [],
   "language": "python",
   "notebookMetadata": {
    "pythonIndentUnit": 4
   },
   "notebookName": "Sales_project_pyspark",
   "notebookOrigID": 1729325964860452,
   "widgets": {}
  }
 },
 "nbformat": 4,
 "nbformat_minor": 0
}
